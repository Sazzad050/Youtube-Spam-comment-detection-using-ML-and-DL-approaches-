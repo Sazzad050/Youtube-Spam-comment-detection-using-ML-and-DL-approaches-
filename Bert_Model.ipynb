{
  "nbformat": 4,
  "nbformat_minor": 0,
  "metadata": {
    "colab": {
      "name": "Bert_Model.ipynb",
      "provenance": [],
      "collapsed_sections": []
    },
    "kernelspec": {
      "name": "python3",
      "display_name": "Python 3"
    },
    "language_info": {
      "name": "python"
    },
    "accelerator": "GPU"
  },
  "cells": [
    {
      "cell_type": "code",
      "source": [
        "pip install tensorflow-text"
      ],
      "metadata": {
        "colab": {
          "base_uri": "https://localhost:8080/"
        },
        "id": "Ad73Ftzgq-wI",
        "outputId": "1da6be75-d4c2-4a0f-a3f0-1452666dbac7"
      },
      "execution_count": null,
      "outputs": [
        {
          "output_type": "stream",
          "name": "stdout",
          "text": [
            "Requirement already satisfied: tensorflow-text in /usr/local/lib/python3.7/dist-packages (2.8.1)\n",
            "Requirement already satisfied: tensorflow<2.9,>=2.8.0 in /usr/local/lib/python3.7/dist-packages (from tensorflow-text) (2.8.0)\n",
            "Requirement already satisfied: tensorflow-hub>=0.8.0 in /usr/local/lib/python3.7/dist-packages (from tensorflow-text) (0.12.0)\n",
            "Requirement already satisfied: opt-einsum>=2.3.2 in /usr/local/lib/python3.7/dist-packages (from tensorflow<2.9,>=2.8.0->tensorflow-text) (3.3.0)\n",
            "Requirement already satisfied: keras<2.9,>=2.8.0rc0 in /usr/local/lib/python3.7/dist-packages (from tensorflow<2.9,>=2.8.0->tensorflow-text) (2.8.0)\n",
            "Requirement already satisfied: absl-py>=0.4.0 in /usr/local/lib/python3.7/dist-packages (from tensorflow<2.9,>=2.8.0->tensorflow-text) (1.0.0)\n",
            "Requirement already satisfied: numpy>=1.20 in /usr/local/lib/python3.7/dist-packages (from tensorflow<2.9,>=2.8.0->tensorflow-text) (1.21.5)\n",
            "Requirement already satisfied: gast>=0.2.1 in /usr/local/lib/python3.7/dist-packages (from tensorflow<2.9,>=2.8.0->tensorflow-text) (0.4.0)\n",
            "Requirement already satisfied: google-pasta>=0.1.1 in /usr/local/lib/python3.7/dist-packages (from tensorflow<2.9,>=2.8.0->tensorflow-text) (0.2.0)\n",
            "Requirement already satisfied: h5py>=2.9.0 in /usr/local/lib/python3.7/dist-packages (from tensorflow<2.9,>=2.8.0->tensorflow-text) (3.1.0)\n",
            "Requirement already satisfied: tensorboard<2.9,>=2.8 in /usr/local/lib/python3.7/dist-packages (from tensorflow<2.9,>=2.8.0->tensorflow-text) (2.8.0)\n",
            "Requirement already satisfied: tensorflow-io-gcs-filesystem>=0.23.1 in /usr/local/lib/python3.7/dist-packages (from tensorflow<2.9,>=2.8.0->tensorflow-text) (0.23.1)\n",
            "Requirement already satisfied: wrapt>=1.11.0 in /usr/local/lib/python3.7/dist-packages (from tensorflow<2.9,>=2.8.0->tensorflow-text) (1.13.3)\n",
            "Requirement already satisfied: libclang>=9.0.1 in /usr/local/lib/python3.7/dist-packages (from tensorflow<2.9,>=2.8.0->tensorflow-text) (13.0.0)\n",
            "Requirement already satisfied: flatbuffers>=1.12 in /usr/local/lib/python3.7/dist-packages (from tensorflow<2.9,>=2.8.0->tensorflow-text) (2.0)\n",
            "Requirement already satisfied: typing-extensions>=3.6.6 in /usr/local/lib/python3.7/dist-packages (from tensorflow<2.9,>=2.8.0->tensorflow-text) (3.10.0.2)\n",
            "Requirement already satisfied: grpcio<2.0,>=1.24.3 in /usr/local/lib/python3.7/dist-packages (from tensorflow<2.9,>=2.8.0->tensorflow-text) (1.43.0)\n",
            "Requirement already satisfied: six>=1.12.0 in /usr/local/lib/python3.7/dist-packages (from tensorflow<2.9,>=2.8.0->tensorflow-text) (1.15.0)\n",
            "Requirement already satisfied: keras-preprocessing>=1.1.1 in /usr/local/lib/python3.7/dist-packages (from tensorflow<2.9,>=2.8.0->tensorflow-text) (1.1.2)\n",
            "Requirement already satisfied: termcolor>=1.1.0 in /usr/local/lib/python3.7/dist-packages (from tensorflow<2.9,>=2.8.0->tensorflow-text) (1.1.0)\n",
            "Requirement already satisfied: protobuf>=3.9.2 in /usr/local/lib/python3.7/dist-packages (from tensorflow<2.9,>=2.8.0->tensorflow-text) (3.17.3)\n",
            "Requirement already satisfied: setuptools in /usr/local/lib/python3.7/dist-packages (from tensorflow<2.9,>=2.8.0->tensorflow-text) (57.4.0)\n",
            "Requirement already satisfied: astunparse>=1.6.0 in /usr/local/lib/python3.7/dist-packages (from tensorflow<2.9,>=2.8.0->tensorflow-text) (1.6.3)\n",
            "Requirement already satisfied: tf-estimator-nightly==2.8.0.dev2021122109 in /usr/local/lib/python3.7/dist-packages (from tensorflow<2.9,>=2.8.0->tensorflow-text) (2.8.0.dev2021122109)\n",
            "Requirement already satisfied: wheel<1.0,>=0.23.0 in /usr/local/lib/python3.7/dist-packages (from astunparse>=1.6.0->tensorflow<2.9,>=2.8.0->tensorflow-text) (0.37.1)\n",
            "Requirement already satisfied: cached-property in /usr/local/lib/python3.7/dist-packages (from h5py>=2.9.0->tensorflow<2.9,>=2.8.0->tensorflow-text) (1.5.2)\n",
            "Requirement already satisfied: tensorboard-plugin-wit>=1.6.0 in /usr/local/lib/python3.7/dist-packages (from tensorboard<2.9,>=2.8->tensorflow<2.9,>=2.8.0->tensorflow-text) (1.8.1)\n",
            "Requirement already satisfied: google-auth<3,>=1.6.3 in /usr/local/lib/python3.7/dist-packages (from tensorboard<2.9,>=2.8->tensorflow<2.9,>=2.8.0->tensorflow-text) (1.35.0)\n",
            "Requirement already satisfied: requests<3,>=2.21.0 in /usr/local/lib/python3.7/dist-packages (from tensorboard<2.9,>=2.8->tensorflow<2.9,>=2.8.0->tensorflow-text) (2.23.0)\n",
            "Requirement already satisfied: tensorboard-data-server<0.7.0,>=0.6.0 in /usr/local/lib/python3.7/dist-packages (from tensorboard<2.9,>=2.8->tensorflow<2.9,>=2.8.0->tensorflow-text) (0.6.1)\n",
            "Requirement already satisfied: werkzeug>=0.11.15 in /usr/local/lib/python3.7/dist-packages (from tensorboard<2.9,>=2.8->tensorflow<2.9,>=2.8.0->tensorflow-text) (1.0.1)\n",
            "Requirement already satisfied: markdown>=2.6.8 in /usr/local/lib/python3.7/dist-packages (from tensorboard<2.9,>=2.8->tensorflow<2.9,>=2.8.0->tensorflow-text) (3.3.6)\n",
            "Requirement already satisfied: google-auth-oauthlib<0.5,>=0.4.1 in /usr/local/lib/python3.7/dist-packages (from tensorboard<2.9,>=2.8->tensorflow<2.9,>=2.8.0->tensorflow-text) (0.4.6)\n",
            "Requirement already satisfied: cachetools<5.0,>=2.0.0 in /usr/local/lib/python3.7/dist-packages (from google-auth<3,>=1.6.3->tensorboard<2.9,>=2.8->tensorflow<2.9,>=2.8.0->tensorflow-text) (4.2.4)\n",
            "Requirement already satisfied: pyasn1-modules>=0.2.1 in /usr/local/lib/python3.7/dist-packages (from google-auth<3,>=1.6.3->tensorboard<2.9,>=2.8->tensorflow<2.9,>=2.8.0->tensorflow-text) (0.2.8)\n",
            "Requirement already satisfied: rsa<5,>=3.1.4 in /usr/local/lib/python3.7/dist-packages (from google-auth<3,>=1.6.3->tensorboard<2.9,>=2.8->tensorflow<2.9,>=2.8.0->tensorflow-text) (4.8)\n",
            "Requirement already satisfied: requests-oauthlib>=0.7.0 in /usr/local/lib/python3.7/dist-packages (from google-auth-oauthlib<0.5,>=0.4.1->tensorboard<2.9,>=2.8->tensorflow<2.9,>=2.8.0->tensorflow-text) (1.3.1)\n",
            "Requirement already satisfied: importlib-metadata>=4.4 in /usr/local/lib/python3.7/dist-packages (from markdown>=2.6.8->tensorboard<2.9,>=2.8->tensorflow<2.9,>=2.8.0->tensorflow-text) (4.10.1)\n",
            "Requirement already satisfied: zipp>=0.5 in /usr/local/lib/python3.7/dist-packages (from importlib-metadata>=4.4->markdown>=2.6.8->tensorboard<2.9,>=2.8->tensorflow<2.9,>=2.8.0->tensorflow-text) (3.7.0)\n",
            "Requirement already satisfied: pyasn1<0.5.0,>=0.4.6 in /usr/local/lib/python3.7/dist-packages (from pyasn1-modules>=0.2.1->google-auth<3,>=1.6.3->tensorboard<2.9,>=2.8->tensorflow<2.9,>=2.8.0->tensorflow-text) (0.4.8)\n",
            "Requirement already satisfied: chardet<4,>=3.0.2 in /usr/local/lib/python3.7/dist-packages (from requests<3,>=2.21.0->tensorboard<2.9,>=2.8->tensorflow<2.9,>=2.8.0->tensorflow-text) (3.0.4)\n",
            "Requirement already satisfied: certifi>=2017.4.17 in /usr/local/lib/python3.7/dist-packages (from requests<3,>=2.21.0->tensorboard<2.9,>=2.8->tensorflow<2.9,>=2.8.0->tensorflow-text) (2021.10.8)\n",
            "Requirement already satisfied: idna<3,>=2.5 in /usr/local/lib/python3.7/dist-packages (from requests<3,>=2.21.0->tensorboard<2.9,>=2.8->tensorflow<2.9,>=2.8.0->tensorflow-text) (2.10)\n",
            "Requirement already satisfied: urllib3!=1.25.0,!=1.25.1,<1.26,>=1.21.1 in /usr/local/lib/python3.7/dist-packages (from requests<3,>=2.21.0->tensorboard<2.9,>=2.8->tensorflow<2.9,>=2.8.0->tensorflow-text) (1.24.3)\n",
            "Requirement already satisfied: oauthlib>=3.0.0 in /usr/local/lib/python3.7/dist-packages (from requests-oauthlib>=0.7.0->google-auth-oauthlib<0.5,>=0.4.1->tensorboard<2.9,>=2.8->tensorflow<2.9,>=2.8.0->tensorflow-text) (3.2.0)\n"
          ]
        }
      ]
    },
    {
      "cell_type": "code",
      "execution_count": null,
      "metadata": {
        "id": "3KBWTQjHoY9-"
      },
      "outputs": [],
      "source": [
        "import tensorflow as tf\n",
        "import tensorflow_hub as hb\n",
        "import tensorflow_text as text"
      ]
    },
    {
      "cell_type": "code",
      "source": [
        "import pandas as pd \n",
        "import zipfile"
      ],
      "metadata": {
        "id": "0lr2erH3rLP_"
      },
      "execution_count": null,
      "outputs": []
    },
    {
      "cell_type": "code",
      "source": [
        "from google.colab import drive\n",
        "drive.mount(\"/content/drive\")\n",
        "z= zipfile.ZipFile(\"/content/drive/MyDrive/Colab Notebooks/YouTube-Spam-Collection-v1.zip\")\n",
        "Psy=pd.read_csv(z.open(\"Youtube01-Psy.csv\"))\n",
        "KatyPerry  =pd.read_csv(z.open(\"Youtube02-KatyPerry.csv\"))\n",
        "LMFAQ =pd.read_csv(z.open(\"Youtube03-LMFAO.csv\"))\n",
        "Eminem =pd.read_csv(z.open(\"Youtube04-Eminem.csv\"))\n",
        "Shakira =pd.read_csv(z.open(\"Youtube05-Shakira.csv\"))"
      ],
      "metadata": {
        "colab": {
          "base_uri": "https://localhost:8080/"
        },
        "id": "PYDQ29WDolhM",
        "outputId": "a3ac60aa-04ee-4a99-b9f7-32a063eee09c"
      },
      "execution_count": null,
      "outputs": [
        {
          "output_type": "stream",
          "name": "stdout",
          "text": [
            "Mounted at /content/drive\n"
          ]
        }
      ]
    },
    {
      "cell_type": "code",
      "source": [
        "frames = [Psy,LMFAQ,Eminem,Shakira,KatyPerry]\n",
        "df = pd.concat(frames)\n",
        "df.drop([\"COMMENT_ID\",\"DATE\",\"AUTHOR\"],axis=1,inplace=True)\n",
        "df.head(10)"
      ],
      "metadata": {
        "colab": {
          "base_uri": "https://localhost:8080/",
          "height": 363
        },
        "id": "gIyNWCt6rpcN",
        "outputId": "84f396e9-a74e-4248-8dbc-d62b5c177736"
      },
      "execution_count": null,
      "outputs": [
        {
          "output_type": "execute_result",
          "data": {
            "text/html": [
              "\n",
              "  <div id=\"df-a1b553d9-19a6-49a4-811e-d8850f53dfd2\">\n",
              "    <div class=\"colab-df-container\">\n",
              "      <div>\n",
              "<style scoped>\n",
              "    .dataframe tbody tr th:only-of-type {\n",
              "        vertical-align: middle;\n",
              "    }\n",
              "\n",
              "    .dataframe tbody tr th {\n",
              "        vertical-align: top;\n",
              "    }\n",
              "\n",
              "    .dataframe thead th {\n",
              "        text-align: right;\n",
              "    }\n",
              "</style>\n",
              "<table border=\"1\" class=\"dataframe\">\n",
              "  <thead>\n",
              "    <tr style=\"text-align: right;\">\n",
              "      <th></th>\n",
              "      <th>CONTENT</th>\n",
              "      <th>CLASS</th>\n",
              "    </tr>\n",
              "  </thead>\n",
              "  <tbody>\n",
              "    <tr>\n",
              "      <th>0</th>\n",
              "      <td>Huh, anyway check out this you[tube] channel: ...</td>\n",
              "      <td>1</td>\n",
              "    </tr>\n",
              "    <tr>\n",
              "      <th>1</th>\n",
              "      <td>Hey guys check out my new channel and our firs...</td>\n",
              "      <td>1</td>\n",
              "    </tr>\n",
              "    <tr>\n",
              "      <th>2</th>\n",
              "      <td>just for test I have to say murdev.com</td>\n",
              "      <td>1</td>\n",
              "    </tr>\n",
              "    <tr>\n",
              "      <th>3</th>\n",
              "      <td>me shaking my sexy ass on my channel enjoy ^_^ ﻿</td>\n",
              "      <td>1</td>\n",
              "    </tr>\n",
              "    <tr>\n",
              "      <th>4</th>\n",
              "      <td>watch?v=vtaRGgvGtWQ   Check this out .﻿</td>\n",
              "      <td>1</td>\n",
              "    </tr>\n",
              "    <tr>\n",
              "      <th>5</th>\n",
              "      <td>Hey, check out my new website!! This site is a...</td>\n",
              "      <td>1</td>\n",
              "    </tr>\n",
              "    <tr>\n",
              "      <th>6</th>\n",
              "      <td>Subscribe to my channel ﻿</td>\n",
              "      <td>1</td>\n",
              "    </tr>\n",
              "    <tr>\n",
              "      <th>7</th>\n",
              "      <td>i turned it on mute as soon is i came on i jus...</td>\n",
              "      <td>0</td>\n",
              "    </tr>\n",
              "    <tr>\n",
              "      <th>8</th>\n",
              "      <td>You should check my channel for Funny VIDEOS!!﻿</td>\n",
              "      <td>1</td>\n",
              "    </tr>\n",
              "    <tr>\n",
              "      <th>9</th>\n",
              "      <td>and u should.d check my channel and tell me wh...</td>\n",
              "      <td>1</td>\n",
              "    </tr>\n",
              "  </tbody>\n",
              "</table>\n",
              "</div>\n",
              "      <button class=\"colab-df-convert\" onclick=\"convertToInteractive('df-a1b553d9-19a6-49a4-811e-d8850f53dfd2')\"\n",
              "              title=\"Convert this dataframe to an interactive table.\"\n",
              "              style=\"display:none;\">\n",
              "        \n",
              "  <svg xmlns=\"http://www.w3.org/2000/svg\" height=\"24px\"viewBox=\"0 0 24 24\"\n",
              "       width=\"24px\">\n",
              "    <path d=\"M0 0h24v24H0V0z\" fill=\"none\"/>\n",
              "    <path d=\"M18.56 5.44l.94 2.06.94-2.06 2.06-.94-2.06-.94-.94-2.06-.94 2.06-2.06.94zm-11 1L8.5 8.5l.94-2.06 2.06-.94-2.06-.94L8.5 2.5l-.94 2.06-2.06.94zm10 10l.94 2.06.94-2.06 2.06-.94-2.06-.94-.94-2.06-.94 2.06-2.06.94z\"/><path d=\"M17.41 7.96l-1.37-1.37c-.4-.4-.92-.59-1.43-.59-.52 0-1.04.2-1.43.59L10.3 9.45l-7.72 7.72c-.78.78-.78 2.05 0 2.83L4 21.41c.39.39.9.59 1.41.59.51 0 1.02-.2 1.41-.59l7.78-7.78 2.81-2.81c.8-.78.8-2.07 0-2.86zM5.41 20L4 18.59l7.72-7.72 1.47 1.35L5.41 20z\"/>\n",
              "  </svg>\n",
              "      </button>\n",
              "      \n",
              "  <style>\n",
              "    .colab-df-container {\n",
              "      display:flex;\n",
              "      flex-wrap:wrap;\n",
              "      gap: 12px;\n",
              "    }\n",
              "\n",
              "    .colab-df-convert {\n",
              "      background-color: #E8F0FE;\n",
              "      border: none;\n",
              "      border-radius: 50%;\n",
              "      cursor: pointer;\n",
              "      display: none;\n",
              "      fill: #1967D2;\n",
              "      height: 32px;\n",
              "      padding: 0 0 0 0;\n",
              "      width: 32px;\n",
              "    }\n",
              "\n",
              "    .colab-df-convert:hover {\n",
              "      background-color: #E2EBFA;\n",
              "      box-shadow: 0px 1px 2px rgba(60, 64, 67, 0.3), 0px 1px 3px 1px rgba(60, 64, 67, 0.15);\n",
              "      fill: #174EA6;\n",
              "    }\n",
              "\n",
              "    [theme=dark] .colab-df-convert {\n",
              "      background-color: #3B4455;\n",
              "      fill: #D2E3FC;\n",
              "    }\n",
              "\n",
              "    [theme=dark] .colab-df-convert:hover {\n",
              "      background-color: #434B5C;\n",
              "      box-shadow: 0px 1px 3px 1px rgba(0, 0, 0, 0.15);\n",
              "      filter: drop-shadow(0px 1px 2px rgba(0, 0, 0, 0.3));\n",
              "      fill: #FFFFFF;\n",
              "    }\n",
              "  </style>\n",
              "\n",
              "      <script>\n",
              "        const buttonEl =\n",
              "          document.querySelector('#df-a1b553d9-19a6-49a4-811e-d8850f53dfd2 button.colab-df-convert');\n",
              "        buttonEl.style.display =\n",
              "          google.colab.kernel.accessAllowed ? 'block' : 'none';\n",
              "\n",
              "        async function convertToInteractive(key) {\n",
              "          const element = document.querySelector('#df-a1b553d9-19a6-49a4-811e-d8850f53dfd2');\n",
              "          const dataTable =\n",
              "            await google.colab.kernel.invokeFunction('convertToInteractive',\n",
              "                                                     [key], {});\n",
              "          if (!dataTable) return;\n",
              "\n",
              "          const docLinkHtml = 'Like what you see? Visit the ' +\n",
              "            '<a target=\"_blank\" href=https://colab.research.google.com/notebooks/data_table.ipynb>data table notebook</a>'\n",
              "            + ' to learn more about interactive tables.';\n",
              "          element.innerHTML = '';\n",
              "          dataTable['output_type'] = 'display_data';\n",
              "          await google.colab.output.renderOutput(dataTable, element);\n",
              "          const docLink = document.createElement('div');\n",
              "          docLink.innerHTML = docLinkHtml;\n",
              "          element.appendChild(docLink);\n",
              "        }\n",
              "      </script>\n",
              "    </div>\n",
              "  </div>\n",
              "  "
            ],
            "text/plain": [
              "                                             CONTENT  CLASS\n",
              "0  Huh, anyway check out this you[tube] channel: ...      1\n",
              "1  Hey guys check out my new channel and our firs...      1\n",
              "2             just for test I have to say murdev.com      1\n",
              "3   me shaking my sexy ass on my channel enjoy ^_^ ﻿      1\n",
              "4            watch?v=vtaRGgvGtWQ   Check this out .﻿      1\n",
              "5  Hey, check out my new website!! This site is a...      1\n",
              "6                          Subscribe to my channel ﻿      1\n",
              "7  i turned it on mute as soon is i came on i jus...      0\n",
              "8    You should check my channel for Funny VIDEOS!!﻿      1\n",
              "9  and u should.d check my channel and tell me wh...      1"
            ]
          },
          "metadata": {},
          "execution_count": 5
        }
      ]
    },
    {
      "cell_type": "code",
      "source": [
        "df.groupby('CONTENT').describe()"
      ],
      "metadata": {
        "colab": {
          "base_uri": "https://localhost:8080/",
          "height": 721
        },
        "id": "_FgsuM6hru7M",
        "outputId": "b72bc317-1601-45c8-9e1a-83f63343897c"
      },
      "execution_count": null,
      "outputs": [
        {
          "output_type": "execute_result",
          "data": {
            "text/html": [
              "\n",
              "  <div id=\"df-32d26a73-468e-4150-a09a-417e567e1cc1\">\n",
              "    <div class=\"colab-df-container\">\n",
              "      <div>\n",
              "<style scoped>\n",
              "    .dataframe tbody tr th:only-of-type {\n",
              "        vertical-align: middle;\n",
              "    }\n",
              "\n",
              "    .dataframe tbody tr th {\n",
              "        vertical-align: top;\n",
              "    }\n",
              "\n",
              "    .dataframe thead tr th {\n",
              "        text-align: left;\n",
              "    }\n",
              "\n",
              "    .dataframe thead tr:last-of-type th {\n",
              "        text-align: right;\n",
              "    }\n",
              "</style>\n",
              "<table border=\"1\" class=\"dataframe\">\n",
              "  <thead>\n",
              "    <tr>\n",
              "      <th></th>\n",
              "      <th colspan=\"8\" halign=\"left\">CLASS</th>\n",
              "    </tr>\n",
              "    <tr>\n",
              "      <th></th>\n",
              "      <th>count</th>\n",
              "      <th>mean</th>\n",
              "      <th>std</th>\n",
              "      <th>min</th>\n",
              "      <th>25%</th>\n",
              "      <th>50%</th>\n",
              "      <th>75%</th>\n",
              "      <th>max</th>\n",
              "    </tr>\n",
              "    <tr>\n",
              "      <th>CONTENT</th>\n",
              "      <th></th>\n",
              "      <th></th>\n",
              "      <th></th>\n",
              "      <th></th>\n",
              "      <th></th>\n",
              "      <th></th>\n",
              "      <th></th>\n",
              "      <th></th>\n",
              "    </tr>\n",
              "  </thead>\n",
              "  <tbody>\n",
              "    <tr>\n",
              "      <th>Check out my SEXY VIDEO :*</th>\n",
              "      <td>2.0</td>\n",
              "      <td>1.0</td>\n",
              "      <td>0.0</td>\n",
              "      <td>1.0</td>\n",
              "      <td>1.0</td>\n",
              "      <td>1.0</td>\n",
              "      <td>1.0</td>\n",
              "      <td>1.0</td>\n",
              "    </tr>\n",
              "    <tr>\n",
              "      <th>Eminem is the king of rap  Micheal Jackson is the king of pop  If you also wanna go hard and wanna be the person of first class fame just check out Authenticviews*com and be famous just within days !! yO ~</th>\n",
              "      <td>1.0</td>\n",
              "      <td>1.0</td>\n",
              "      <td>NaN</td>\n",
              "      <td>1.0</td>\n",
              "      <td>1.0</td>\n",
              "      <td>1.0</td>\n",
              "      <td>1.0</td>\n",
              "      <td>1.0</td>\n",
              "    </tr>\n",
              "    <tr>\n",
              "      <th>HI!:D!:) We’ re TWIN MELODY ,17 year old twins :) WE DID SOME COVERS!!WE DID A COVER OF BIRTHDAY BY KATY PERRY!!  PLEASE JUST TAKE 1 SECOND AND WATCH IT!! THANKS,MERCI,GRACIAS,DANKE,OBRIGADO,GRAZIE ….    !!!  &amp;lt;3  XX HAVE A NICE DAY!!:D﻿</th>\n",
              "      <td>1.0</td>\n",
              "      <td>1.0</td>\n",
              "      <td>NaN</td>\n",
              "      <td>1.0</td>\n",
              "      <td>1.0</td>\n",
              "      <td>1.0</td>\n",
              "      <td>1.0</td>\n",
              "      <td>1.0</td>\n",
              "    </tr>\n",
              "    <tr>\n",
              "      <th>Haha , Miley Cyrus has done it once again  Today someone leeched a porno video with her on a celeb site   I believe the website link is : miley-celeb-news.co.uk in case you want to view it....</th>\n",
              "      <td>1.0</td>\n",
              "      <td>1.0</td>\n",
              "      <td>NaN</td>\n",
              "      <td>1.0</td>\n",
              "      <td>1.0</td>\n",
              "      <td>1.0</td>\n",
              "      <td>1.0</td>\n",
              "      <td>1.0</td>\n",
              "    </tr>\n",
              "    <tr>\n",
              "      <th>Perhaps you have seen the newest Miley Cyrus SECRET video ?   She&amp;#39;s sucking an old man&amp;#39;s cock ,  If you wish to see her , check out the celebrity website beneath :   miley-secret-video.co.uk</th>\n",
              "      <td>1.0</td>\n",
              "      <td>1.0</td>\n",
              "      <td>NaN</td>\n",
              "      <td>1.0</td>\n",
              "      <td>1.0</td>\n",
              "      <td>1.0</td>\n",
              "      <td>1.0</td>\n",
              "      <td>1.0</td>\n",
              "    </tr>\n",
              "    <tr>\n",
              "      <th>...</th>\n",
              "      <td>...</td>\n",
              "      <td>...</td>\n",
              "      <td>...</td>\n",
              "      <td>...</td>\n",
              "      <td>...</td>\n",
              "      <td>...</td>\n",
              "      <td>...</td>\n",
              "      <td>...</td>\n",
              "    </tr>\n",
              "    <tr>\n",
              "      <th>❤️❤️❤️﻿</th>\n",
              "      <td>1.0</td>\n",
              "      <td>0.0</td>\n",
              "      <td>NaN</td>\n",
              "      <td>0.0</td>\n",
              "      <td>0.0</td>\n",
              "      <td>0.0</td>\n",
              "      <td>0.0</td>\n",
              "      <td>0.0</td>\n",
              "    </tr>\n",
              "    <tr>\n",
              "      <th>ｈｔｔｐ://ｗｗｗ.ｅｂａｙ.ｃｏｍ/ｕｓｒ/ｓｈｏｅｃｏｌｌｅｃｔｏｒ314</th>\n",
              "      <td>1.0</td>\n",
              "      <td>1.0</td>\n",
              "      <td>NaN</td>\n",
              "      <td>1.0</td>\n",
              "      <td>1.0</td>\n",
              "      <td>1.0</td>\n",
              "      <td>1.0</td>\n",
              "      <td>1.0</td>\n",
              "    </tr>\n",
              "    <tr>\n",
              "      <th>😫😓😏😪😔😖😌😭😎😚😘😙😗😋😝😜😛😍😒😞😷😶😵😳😲😱😟😰😩😨😧😦😥😤😣😮😴😢😡😠😬😕😑😐😯😉😈😇😆😅😄😃😂😁😀😊☺  every single types of face on earth﻿</th>\n",
              "      <td>1.0</td>\n",
              "      <td>0.0</td>\n",
              "      <td>NaN</td>\n",
              "      <td>0.0</td>\n",
              "      <td>0.0</td>\n",
              "      <td>0.0</td>\n",
              "      <td>0.0</td>\n",
              "      <td>0.0</td>\n",
              "    </tr>\n",
              "    <tr>\n",
              "      <th>😼👍😏 Like This Comment 😏👍😼﻿</th>\n",
              "      <td>1.0</td>\n",
              "      <td>1.0</td>\n",
              "      <td>NaN</td>\n",
              "      <td>1.0</td>\n",
              "      <td>1.0</td>\n",
              "      <td>1.0</td>\n",
              "      <td>1.0</td>\n",
              "      <td>1.0</td>\n",
              "    </tr>\n",
              "    <tr>\n",
              "      <th>🚨🚨🚨🚨🚨🚨🚨🚨🚨🚨🚨🚨🚨🚨🚨🚨&lt;br /&gt;NOW THAT I HAVE YOUR ATTENTION!!! 🚨🚨🚨🚨🚨🚨🚨🚨🚨🚨🚨🚨🚨🚨🚨🚨SUBSCRIBE TO MY CHANNEL!!!&lt;br /&gt;🚨🚨🚨🚨🚨🚨🚨🚨🚨🚨🚨🚨🚨🚨🚨🚨&lt;br /&gt;GRACIAS!💋&lt;br /&gt;🚨🚨🚨🚨🚨🚨🚨🚨🚨🚨🚨﻿</th>\n",
              "      <td>1.0</td>\n",
              "      <td>1.0</td>\n",
              "      <td>NaN</td>\n",
              "      <td>1.0</td>\n",
              "      <td>1.0</td>\n",
              "      <td>1.0</td>\n",
              "      <td>1.0</td>\n",
              "      <td>1.0</td>\n",
              "    </tr>\n",
              "  </tbody>\n",
              "</table>\n",
              "<p>1760 rows × 8 columns</p>\n",
              "</div>\n",
              "      <button class=\"colab-df-convert\" onclick=\"convertToInteractive('df-32d26a73-468e-4150-a09a-417e567e1cc1')\"\n",
              "              title=\"Convert this dataframe to an interactive table.\"\n",
              "              style=\"display:none;\">\n",
              "        \n",
              "  <svg xmlns=\"http://www.w3.org/2000/svg\" height=\"24px\"viewBox=\"0 0 24 24\"\n",
              "       width=\"24px\">\n",
              "    <path d=\"M0 0h24v24H0V0z\" fill=\"none\"/>\n",
              "    <path d=\"M18.56 5.44l.94 2.06.94-2.06 2.06-.94-2.06-.94-.94-2.06-.94 2.06-2.06.94zm-11 1L8.5 8.5l.94-2.06 2.06-.94-2.06-.94L8.5 2.5l-.94 2.06-2.06.94zm10 10l.94 2.06.94-2.06 2.06-.94-2.06-.94-.94-2.06-.94 2.06-2.06.94z\"/><path d=\"M17.41 7.96l-1.37-1.37c-.4-.4-.92-.59-1.43-.59-.52 0-1.04.2-1.43.59L10.3 9.45l-7.72 7.72c-.78.78-.78 2.05 0 2.83L4 21.41c.39.39.9.59 1.41.59.51 0 1.02-.2 1.41-.59l7.78-7.78 2.81-2.81c.8-.78.8-2.07 0-2.86zM5.41 20L4 18.59l7.72-7.72 1.47 1.35L5.41 20z\"/>\n",
              "  </svg>\n",
              "      </button>\n",
              "      \n",
              "  <style>\n",
              "    .colab-df-container {\n",
              "      display:flex;\n",
              "      flex-wrap:wrap;\n",
              "      gap: 12px;\n",
              "    }\n",
              "\n",
              "    .colab-df-convert {\n",
              "      background-color: #E8F0FE;\n",
              "      border: none;\n",
              "      border-radius: 50%;\n",
              "      cursor: pointer;\n",
              "      display: none;\n",
              "      fill: #1967D2;\n",
              "      height: 32px;\n",
              "      padding: 0 0 0 0;\n",
              "      width: 32px;\n",
              "    }\n",
              "\n",
              "    .colab-df-convert:hover {\n",
              "      background-color: #E2EBFA;\n",
              "      box-shadow: 0px 1px 2px rgba(60, 64, 67, 0.3), 0px 1px 3px 1px rgba(60, 64, 67, 0.15);\n",
              "      fill: #174EA6;\n",
              "    }\n",
              "\n",
              "    [theme=dark] .colab-df-convert {\n",
              "      background-color: #3B4455;\n",
              "      fill: #D2E3FC;\n",
              "    }\n",
              "\n",
              "    [theme=dark] .colab-df-convert:hover {\n",
              "      background-color: #434B5C;\n",
              "      box-shadow: 0px 1px 3px 1px rgba(0, 0, 0, 0.15);\n",
              "      filter: drop-shadow(0px 1px 2px rgba(0, 0, 0, 0.3));\n",
              "      fill: #FFFFFF;\n",
              "    }\n",
              "  </style>\n",
              "\n",
              "      <script>\n",
              "        const buttonEl =\n",
              "          document.querySelector('#df-32d26a73-468e-4150-a09a-417e567e1cc1 button.colab-df-convert');\n",
              "        buttonEl.style.display =\n",
              "          google.colab.kernel.accessAllowed ? 'block' : 'none';\n",
              "\n",
              "        async function convertToInteractive(key) {\n",
              "          const element = document.querySelector('#df-32d26a73-468e-4150-a09a-417e567e1cc1');\n",
              "          const dataTable =\n",
              "            await google.colab.kernel.invokeFunction('convertToInteractive',\n",
              "                                                     [key], {});\n",
              "          if (!dataTable) return;\n",
              "\n",
              "          const docLinkHtml = 'Like what you see? Visit the ' +\n",
              "            '<a target=\"_blank\" href=https://colab.research.google.com/notebooks/data_table.ipynb>data table notebook</a>'\n",
              "            + ' to learn more about interactive tables.';\n",
              "          element.innerHTML = '';\n",
              "          dataTable['output_type'] = 'display_data';\n",
              "          await google.colab.output.renderOutput(dataTable, element);\n",
              "          const docLink = document.createElement('div');\n",
              "          docLink.innerHTML = docLinkHtml;\n",
              "          element.appendChild(docLink);\n",
              "        }\n",
              "      </script>\n",
              "    </div>\n",
              "  </div>\n",
              "  "
            ],
            "text/plain": [
              "                                                   CLASS       ...          \n",
              "                                                   count mean  ...  75%  max\n",
              "CONTENT                                                        ...          \n",
              "  Check out my SEXY VIDEO :*                         2.0  1.0  ...  1.0  1.0\n",
              "  Eminem is the king of rap  Micheal Jackson is...   1.0  1.0  ...  1.0  1.0\n",
              "  HI!:D!:) We’ re TWIN MELODY ,17 year old twin...   1.0  1.0  ...  1.0  1.0\n",
              "  Haha , Miley Cyrus has done it once again  To...   1.0  1.0  ...  1.0  1.0\n",
              "  Perhaps you have seen the newest Miley Cyrus ...   1.0  1.0  ...  1.0  1.0\n",
              "...                                                  ...  ...  ...  ...  ...\n",
              "❤️❤️❤️﻿                                              1.0  0.0  ...  0.0  0.0\n",
              "ｈｔｔｐ://ｗｗｗ.ｅｂａｙ.ｃｏｍ/ｕｓｒ/ｓｈｏｅｃｏｌｌｅｃｔｏｒ314             1.0  1.0  ...  1.0  1.0\n",
              "😫😓😏😪😔😖😌😭😎😚😘😙😗😋😝😜😛😍😒😞😷😶😵😳😲😱😟😰😩😨😧😦😥😤😣😮😴😢😡😠😬😕😑😐😯😉😈...   1.0  0.0  ...  0.0  0.0\n",
              "😼👍😏 Like This Comment 😏👍😼﻿                           1.0  1.0  ...  1.0  1.0\n",
              "🚨🚨🚨🚨🚨🚨🚨🚨🚨🚨🚨🚨🚨🚨🚨🚨<br />NOW THAT I HAVE YOUR ATTE...   1.0  1.0  ...  1.0  1.0\n",
              "\n",
              "[1760 rows x 8 columns]"
            ]
          },
          "metadata": {},
          "execution_count": 6
        }
      ]
    },
    {
      "cell_type": "code",
      "source": [
        "df.groupby('CLASS').describe()"
      ],
      "metadata": {
        "colab": {
          "base_uri": "https://localhost:8080/",
          "height": 174
        },
        "id": "_icrgRhGr_-t",
        "outputId": "cc446567-088d-4652-b5ab-c1719531de02"
      },
      "execution_count": null,
      "outputs": [
        {
          "output_type": "execute_result",
          "data": {
            "text/html": [
              "\n",
              "  <div id=\"df-e42b4963-60af-4f7a-b6d1-a3bc553c3b99\">\n",
              "    <div class=\"colab-df-container\">\n",
              "      <div>\n",
              "<style scoped>\n",
              "    .dataframe tbody tr th:only-of-type {\n",
              "        vertical-align: middle;\n",
              "    }\n",
              "\n",
              "    .dataframe tbody tr th {\n",
              "        vertical-align: top;\n",
              "    }\n",
              "\n",
              "    .dataframe thead tr th {\n",
              "        text-align: left;\n",
              "    }\n",
              "\n",
              "    .dataframe thead tr:last-of-type th {\n",
              "        text-align: right;\n",
              "    }\n",
              "</style>\n",
              "<table border=\"1\" class=\"dataframe\">\n",
              "  <thead>\n",
              "    <tr>\n",
              "      <th></th>\n",
              "      <th colspan=\"4\" halign=\"left\">CONTENT</th>\n",
              "    </tr>\n",
              "    <tr>\n",
              "      <th></th>\n",
              "      <th>count</th>\n",
              "      <th>unique</th>\n",
              "      <th>top</th>\n",
              "      <th>freq</th>\n",
              "    </tr>\n",
              "    <tr>\n",
              "      <th>CLASS</th>\n",
              "      <th></th>\n",
              "      <th></th>\n",
              "      <th></th>\n",
              "      <th></th>\n",
              "    </tr>\n",
              "  </thead>\n",
              "  <tbody>\n",
              "    <tr>\n",
              "      <th>0</th>\n",
              "      <td>951</td>\n",
              "      <td>919</td>\n",
              "      <td>wow</td>\n",
              "      <td>4</td>\n",
              "    </tr>\n",
              "    <tr>\n",
              "      <th>1</th>\n",
              "      <td>1005</td>\n",
              "      <td>841</td>\n",
              "      <td>Check out this video on YouTube:﻿</td>\n",
              "      <td>97</td>\n",
              "    </tr>\n",
              "  </tbody>\n",
              "</table>\n",
              "</div>\n",
              "      <button class=\"colab-df-convert\" onclick=\"convertToInteractive('df-e42b4963-60af-4f7a-b6d1-a3bc553c3b99')\"\n",
              "              title=\"Convert this dataframe to an interactive table.\"\n",
              "              style=\"display:none;\">\n",
              "        \n",
              "  <svg xmlns=\"http://www.w3.org/2000/svg\" height=\"24px\"viewBox=\"0 0 24 24\"\n",
              "       width=\"24px\">\n",
              "    <path d=\"M0 0h24v24H0V0z\" fill=\"none\"/>\n",
              "    <path d=\"M18.56 5.44l.94 2.06.94-2.06 2.06-.94-2.06-.94-.94-2.06-.94 2.06-2.06.94zm-11 1L8.5 8.5l.94-2.06 2.06-.94-2.06-.94L8.5 2.5l-.94 2.06-2.06.94zm10 10l.94 2.06.94-2.06 2.06-.94-2.06-.94-.94-2.06-.94 2.06-2.06.94z\"/><path d=\"M17.41 7.96l-1.37-1.37c-.4-.4-.92-.59-1.43-.59-.52 0-1.04.2-1.43.59L10.3 9.45l-7.72 7.72c-.78.78-.78 2.05 0 2.83L4 21.41c.39.39.9.59 1.41.59.51 0 1.02-.2 1.41-.59l7.78-7.78 2.81-2.81c.8-.78.8-2.07 0-2.86zM5.41 20L4 18.59l7.72-7.72 1.47 1.35L5.41 20z\"/>\n",
              "  </svg>\n",
              "      </button>\n",
              "      \n",
              "  <style>\n",
              "    .colab-df-container {\n",
              "      display:flex;\n",
              "      flex-wrap:wrap;\n",
              "      gap: 12px;\n",
              "    }\n",
              "\n",
              "    .colab-df-convert {\n",
              "      background-color: #E8F0FE;\n",
              "      border: none;\n",
              "      border-radius: 50%;\n",
              "      cursor: pointer;\n",
              "      display: none;\n",
              "      fill: #1967D2;\n",
              "      height: 32px;\n",
              "      padding: 0 0 0 0;\n",
              "      width: 32px;\n",
              "    }\n",
              "\n",
              "    .colab-df-convert:hover {\n",
              "      background-color: #E2EBFA;\n",
              "      box-shadow: 0px 1px 2px rgba(60, 64, 67, 0.3), 0px 1px 3px 1px rgba(60, 64, 67, 0.15);\n",
              "      fill: #174EA6;\n",
              "    }\n",
              "\n",
              "    [theme=dark] .colab-df-convert {\n",
              "      background-color: #3B4455;\n",
              "      fill: #D2E3FC;\n",
              "    }\n",
              "\n",
              "    [theme=dark] .colab-df-convert:hover {\n",
              "      background-color: #434B5C;\n",
              "      box-shadow: 0px 1px 3px 1px rgba(0, 0, 0, 0.15);\n",
              "      filter: drop-shadow(0px 1px 2px rgba(0, 0, 0, 0.3));\n",
              "      fill: #FFFFFF;\n",
              "    }\n",
              "  </style>\n",
              "\n",
              "      <script>\n",
              "        const buttonEl =\n",
              "          document.querySelector('#df-e42b4963-60af-4f7a-b6d1-a3bc553c3b99 button.colab-df-convert');\n",
              "        buttonEl.style.display =\n",
              "          google.colab.kernel.accessAllowed ? 'block' : 'none';\n",
              "\n",
              "        async function convertToInteractive(key) {\n",
              "          const element = document.querySelector('#df-e42b4963-60af-4f7a-b6d1-a3bc553c3b99');\n",
              "          const dataTable =\n",
              "            await google.colab.kernel.invokeFunction('convertToInteractive',\n",
              "                                                     [key], {});\n",
              "          if (!dataTable) return;\n",
              "\n",
              "          const docLinkHtml = 'Like what you see? Visit the ' +\n",
              "            '<a target=\"_blank\" href=https://colab.research.google.com/notebooks/data_table.ipynb>data table notebook</a>'\n",
              "            + ' to learn more about interactive tables.';\n",
              "          element.innerHTML = '';\n",
              "          dataTable['output_type'] = 'display_data';\n",
              "          await google.colab.output.renderOutput(dataTable, element);\n",
              "          const docLink = document.createElement('div');\n",
              "          docLink.innerHTML = docLinkHtml;\n",
              "          element.appendChild(docLink);\n",
              "        }\n",
              "      </script>\n",
              "    </div>\n",
              "  </div>\n",
              "  "
            ],
            "text/plain": [
              "      CONTENT                                               \n",
              "        count unique                                top freq\n",
              "CLASS                                                       \n",
              "0         951    919                                wow    4\n",
              "1        1005    841  Check out this video on YouTube:﻿   97"
            ]
          },
          "metadata": {},
          "execution_count": 7
        }
      ]
    },
    {
      "cell_type": "code",
      "source": [
        "df['CLASS'].value_counts()"
      ],
      "metadata": {
        "colab": {
          "base_uri": "https://localhost:8080/"
        },
        "id": "RruBvfNUsIVq",
        "outputId": "0f570204-5ca2-4eab-cec5-c52a72d51e7c"
      },
      "execution_count": null,
      "outputs": [
        {
          "output_type": "execute_result",
          "data": {
            "text/plain": [
              "1    1005\n",
              "0     951\n",
              "Name: CLASS, dtype: int64"
            ]
          },
          "metadata": {},
          "execution_count": 8
        }
      ]
    },
    {
      "cell_type": "code",
      "source": [
        " 951/1005"
      ],
      "metadata": {
        "colab": {
          "base_uri": "https://localhost:8080/"
        },
        "id": "RjJiVmIDsfOb",
        "outputId": "74b4d4d2-dce5-43a4-c200-f88f67573609"
      },
      "execution_count": null,
      "outputs": [
        {
          "output_type": "execute_result",
          "data": {
            "text/plain": [
              "0.9462686567164179"
            ]
          },
          "metadata": {},
          "execution_count": 9
        }
      ]
    },
    {
      "cell_type": "code",
      "source": [
        " df_spam=df[df['CLASS']==1]\n",
        " df_spam.shape"
      ],
      "metadata": {
        "colab": {
          "base_uri": "https://localhost:8080/"
        },
        "id": "w5OtK7bRs1x6",
        "outputId": "778161a6-550c-4c5a-f367-1d46e65bca77"
      },
      "execution_count": null,
      "outputs": [
        {
          "output_type": "execute_result",
          "data": {
            "text/plain": [
              "(1005, 2)"
            ]
          },
          "metadata": {},
          "execution_count": 10
        }
      ]
    },
    {
      "cell_type": "code",
      "source": [
        "df_ham = df[df['CLASS']==0]\n",
        "df_ham.shape"
      ],
      "metadata": {
        "colab": {
          "base_uri": "https://localhost:8080/"
        },
        "id": "OS-_CO4Y-Iez",
        "outputId": "222c1f77-cdce-4a95-c53c-7dd8f5860d3f"
      },
      "execution_count": null,
      "outputs": [
        {
          "output_type": "execute_result",
          "data": {
            "text/plain": [
              "(951, 2)"
            ]
          },
          "metadata": {},
          "execution_count": 11
        }
      ]
    },
    {
      "cell_type": "code",
      "source": [
        "df_ham.sample(951)"
      ],
      "metadata": {
        "colab": {
          "base_uri": "https://localhost:8080/",
          "height": 423
        },
        "id": "rQPkteVs_Zi1",
        "outputId": "e60c8827-50d2-432e-dd8b-7fd163a2d24e"
      },
      "execution_count": null,
      "outputs": [
        {
          "output_type": "execute_result",
          "data": {
            "text/html": [
              "\n",
              "  <div id=\"df-5d2c2692-b8fe-4a0d-9411-61d418e799af\">\n",
              "    <div class=\"colab-df-container\">\n",
              "      <div>\n",
              "<style scoped>\n",
              "    .dataframe tbody tr th:only-of-type {\n",
              "        vertical-align: middle;\n",
              "    }\n",
              "\n",
              "    .dataframe tbody tr th {\n",
              "        vertical-align: top;\n",
              "    }\n",
              "\n",
              "    .dataframe thead th {\n",
              "        text-align: right;\n",
              "    }\n",
              "</style>\n",
              "<table border=\"1\" class=\"dataframe\">\n",
              "  <thead>\n",
              "    <tr style=\"text-align: right;\">\n",
              "      <th></th>\n",
              "      <th>CONTENT</th>\n",
              "      <th>CLASS</th>\n",
              "    </tr>\n",
              "  </thead>\n",
              "  <tbody>\n",
              "    <tr>\n",
              "      <th>199</th>\n",
              "      <td>Every time I watch this mv I just so so so gla...</td>\n",
              "      <td>0</td>\n",
              "    </tr>\n",
              "    <tr>\n",
              "      <th>152</th>\n",
              "      <td>Hey, it&amp;#39;s Charlie from Lost﻿</td>\n",
              "      <td>0</td>\n",
              "    </tr>\n",
              "    <tr>\n",
              "      <th>342</th>\n",
              "      <td>Why does a song like this have more views than...</td>\n",
              "      <td>0</td>\n",
              "    </tr>\n",
              "    <tr>\n",
              "      <th>264</th>\n",
              "      <td>we all love you Katy Perry &amp;lt;3﻿</td>\n",
              "      <td>0</td>\n",
              "    </tr>\n",
              "    <tr>\n",
              "      <th>139</th>\n",
              "      <td>Loves it﻿</td>\n",
              "      <td>0</td>\n",
              "    </tr>\n",
              "    <tr>\n",
              "      <th>...</th>\n",
              "      <td>...</td>\n",
              "      <td>...</td>\n",
              "    </tr>\n",
              "    <tr>\n",
              "      <th>133</th>\n",
              "      <td>like me﻿</td>\n",
              "      <td>0</td>\n",
              "    </tr>\n",
              "    <tr>\n",
              "      <th>285</th>\n",
              "      <td>Shakira</td>\n",
              "      <td>0</td>\n",
              "    </tr>\n",
              "    <tr>\n",
              "      <th>7</th>\n",
              "      <td>This song is just really fun ﻿</td>\n",
              "      <td>0</td>\n",
              "    </tr>\n",
              "    <tr>\n",
              "      <th>173</th>\n",
              "      <td>LMFAO - Party Rock Anthem ft. Lauren Bennett, ...</td>\n",
              "      <td>0</td>\n",
              "    </tr>\n",
              "    <tr>\n",
              "      <th>70</th>\n",
              "      <td>How could 108k people dislike this song or video﻿</td>\n",
              "      <td>0</td>\n",
              "    </tr>\n",
              "  </tbody>\n",
              "</table>\n",
              "<p>951 rows × 2 columns</p>\n",
              "</div>\n",
              "      <button class=\"colab-df-convert\" onclick=\"convertToInteractive('df-5d2c2692-b8fe-4a0d-9411-61d418e799af')\"\n",
              "              title=\"Convert this dataframe to an interactive table.\"\n",
              "              style=\"display:none;\">\n",
              "        \n",
              "  <svg xmlns=\"http://www.w3.org/2000/svg\" height=\"24px\"viewBox=\"0 0 24 24\"\n",
              "       width=\"24px\">\n",
              "    <path d=\"M0 0h24v24H0V0z\" fill=\"none\"/>\n",
              "    <path d=\"M18.56 5.44l.94 2.06.94-2.06 2.06-.94-2.06-.94-.94-2.06-.94 2.06-2.06.94zm-11 1L8.5 8.5l.94-2.06 2.06-.94-2.06-.94L8.5 2.5l-.94 2.06-2.06.94zm10 10l.94 2.06.94-2.06 2.06-.94-2.06-.94-.94-2.06-.94 2.06-2.06.94z\"/><path d=\"M17.41 7.96l-1.37-1.37c-.4-.4-.92-.59-1.43-.59-.52 0-1.04.2-1.43.59L10.3 9.45l-7.72 7.72c-.78.78-.78 2.05 0 2.83L4 21.41c.39.39.9.59 1.41.59.51 0 1.02-.2 1.41-.59l7.78-7.78 2.81-2.81c.8-.78.8-2.07 0-2.86zM5.41 20L4 18.59l7.72-7.72 1.47 1.35L5.41 20z\"/>\n",
              "  </svg>\n",
              "      </button>\n",
              "      \n",
              "  <style>\n",
              "    .colab-df-container {\n",
              "      display:flex;\n",
              "      flex-wrap:wrap;\n",
              "      gap: 12px;\n",
              "    }\n",
              "\n",
              "    .colab-df-convert {\n",
              "      background-color: #E8F0FE;\n",
              "      border: none;\n",
              "      border-radius: 50%;\n",
              "      cursor: pointer;\n",
              "      display: none;\n",
              "      fill: #1967D2;\n",
              "      height: 32px;\n",
              "      padding: 0 0 0 0;\n",
              "      width: 32px;\n",
              "    }\n",
              "\n",
              "    .colab-df-convert:hover {\n",
              "      background-color: #E2EBFA;\n",
              "      box-shadow: 0px 1px 2px rgba(60, 64, 67, 0.3), 0px 1px 3px 1px rgba(60, 64, 67, 0.15);\n",
              "      fill: #174EA6;\n",
              "    }\n",
              "\n",
              "    [theme=dark] .colab-df-convert {\n",
              "      background-color: #3B4455;\n",
              "      fill: #D2E3FC;\n",
              "    }\n",
              "\n",
              "    [theme=dark] .colab-df-convert:hover {\n",
              "      background-color: #434B5C;\n",
              "      box-shadow: 0px 1px 3px 1px rgba(0, 0, 0, 0.15);\n",
              "      filter: drop-shadow(0px 1px 2px rgba(0, 0, 0, 0.3));\n",
              "      fill: #FFFFFF;\n",
              "    }\n",
              "  </style>\n",
              "\n",
              "      <script>\n",
              "        const buttonEl =\n",
              "          document.querySelector('#df-5d2c2692-b8fe-4a0d-9411-61d418e799af button.colab-df-convert');\n",
              "        buttonEl.style.display =\n",
              "          google.colab.kernel.accessAllowed ? 'block' : 'none';\n",
              "\n",
              "        async function convertToInteractive(key) {\n",
              "          const element = document.querySelector('#df-5d2c2692-b8fe-4a0d-9411-61d418e799af');\n",
              "          const dataTable =\n",
              "            await google.colab.kernel.invokeFunction('convertToInteractive',\n",
              "                                                     [key], {});\n",
              "          if (!dataTable) return;\n",
              "\n",
              "          const docLinkHtml = 'Like what you see? Visit the ' +\n",
              "            '<a target=\"_blank\" href=https://colab.research.google.com/notebooks/data_table.ipynb>data table notebook</a>'\n",
              "            + ' to learn more about interactive tables.';\n",
              "          element.innerHTML = '';\n",
              "          dataTable['output_type'] = 'display_data';\n",
              "          await google.colab.output.renderOutput(dataTable, element);\n",
              "          const docLink = document.createElement('div');\n",
              "          docLink.innerHTML = docLinkHtml;\n",
              "          element.appendChild(docLink);\n",
              "        }\n",
              "      </script>\n",
              "    </div>\n",
              "  </div>\n",
              "  "
            ],
            "text/plain": [
              "                                               CONTENT  CLASS\n",
              "199  Every time I watch this mv I just so so so gla...      0\n",
              "152                   Hey, it&#39;s Charlie from Lost﻿      0\n",
              "342  Why does a song like this have more views than...      0\n",
              "264                  we all love you Katy Perry &lt;3﻿      0\n",
              "139                                          Loves it﻿      0\n",
              "..                                                 ...    ...\n",
              "133                                           like me﻿      0\n",
              "285                                            Shakira      0\n",
              "7                       This song is just really fun ﻿      0\n",
              "173  LMFAO - Party Rock Anthem ft. Lauren Bennett, ...      0\n",
              "70   How could 108k people dislike this song or video﻿      0\n",
              "\n",
              "[951 rows x 2 columns]"
            ]
          },
          "metadata": {},
          "execution_count": 12
        }
      ]
    },
    {
      "cell_type": "markdown",
      "source": [
        "ham and spam are balanced"
      ],
      "metadata": {
        "id": "ljOwZUi4BesW"
      }
    },
    {
      "cell_type": "code",
      "source": [
        "df_spam_d=df_spam.sample( df_ham.shape[0])\n",
        "df_spam_d.shape"
      ],
      "metadata": {
        "colab": {
          "base_uri": "https://localhost:8080/"
        },
        "id": "1BwCeeRtACkY",
        "outputId": "b25f9502-3924-45ff-907f-662fc2cf4b37"
      },
      "execution_count": null,
      "outputs": [
        {
          "output_type": "execute_result",
          "data": {
            "text/plain": [
              "(951, 2)"
            ]
          },
          "metadata": {},
          "execution_count": 13
        }
      ]
    },
    {
      "cell_type": "code",
      "source": [
        "df_balanced = pd.concat([df_ham, df_spam_d])\n",
        "df_balanced.shape"
      ],
      "metadata": {
        "colab": {
          "base_uri": "https://localhost:8080/"
        },
        "id": "YZzlnXiPBo6-",
        "outputId": "c21b0b87-32d2-444b-f171-79908382a26d"
      },
      "execution_count": null,
      "outputs": [
        {
          "output_type": "execute_result",
          "data": {
            "text/plain": [
              "(1902, 2)"
            ]
          },
          "metadata": {},
          "execution_count": 14
        }
      ]
    },
    {
      "cell_type": "code",
      "source": [
        "df_balanced['CLASS'].value_counts()"
      ],
      "metadata": {
        "colab": {
          "base_uri": "https://localhost:8080/"
        },
        "id": "KxTknA5-CEu3",
        "outputId": "28247588-f08c-4fac-eb37-a76f52460d20"
      },
      "execution_count": null,
      "outputs": [
        {
          "output_type": "execute_result",
          "data": {
            "text/plain": [
              "0    951\n",
              "1    951\n",
              "Name: CLASS, dtype: int64"
            ]
          },
          "metadata": {},
          "execution_count": 15
        }
      ]
    },
    {
      "cell_type": "code",
      "source": [
        "   df_balanced[1]=df_balanced['CLASS'].apply(lambda x: 1 if x==1 else 0)\n",
        "   df_balanced.sample(5)\n"
      ],
      "metadata": {
        "colab": {
          "base_uri": "https://localhost:8080/",
          "height": 206
        },
        "id": "v2WWATCNCO8V",
        "outputId": "ce6e4fd1-bf07-4ecd-f277-bf34f2648408"
      },
      "execution_count": null,
      "outputs": [
        {
          "output_type": "execute_result",
          "data": {
            "text/html": [
              "\n",
              "  <div id=\"df-d716c1ee-b1ac-4f90-9c42-aebd8a46f005\">\n",
              "    <div class=\"colab-df-container\">\n",
              "      <div>\n",
              "<style scoped>\n",
              "    .dataframe tbody tr th:only-of-type {\n",
              "        vertical-align: middle;\n",
              "    }\n",
              "\n",
              "    .dataframe tbody tr th {\n",
              "        vertical-align: top;\n",
              "    }\n",
              "\n",
              "    .dataframe thead th {\n",
              "        text-align: right;\n",
              "    }\n",
              "</style>\n",
              "<table border=\"1\" class=\"dataframe\">\n",
              "  <thead>\n",
              "    <tr style=\"text-align: right;\">\n",
              "      <th></th>\n",
              "      <th>CONTENT</th>\n",
              "      <th>CLASS</th>\n",
              "      <th>1</th>\n",
              "    </tr>\n",
              "  </thead>\n",
              "  <tbody>\n",
              "    <tr>\n",
              "      <th>316</th>\n",
              "      <td>Check out this playlist on YouTube:﻿</td>\n",
              "      <td>1</td>\n",
              "      <td>1</td>\n",
              "    </tr>\n",
              "    <tr>\n",
              "      <th>48</th>\n",
              "      <td>plese subscribe to me﻿</td>\n",
              "      <td>1</td>\n",
              "      <td>1</td>\n",
              "    </tr>\n",
              "    <tr>\n",
              "      <th>317</th>\n",
              "      <td>Check out this video on YouTube:﻿</td>\n",
              "      <td>1</td>\n",
              "      <td>1</td>\n",
              "    </tr>\n",
              "    <tr>\n",
              "      <th>341</th>\n",
              "      <td>Free my apps get 1m crdits ! Just click on the...</td>\n",
              "      <td>1</td>\n",
              "      <td>1</td>\n",
              "    </tr>\n",
              "    <tr>\n",
              "      <th>0</th>\n",
              "      <td>+447935454150 lovely girl talk to me xxx﻿</td>\n",
              "      <td>1</td>\n",
              "      <td>1</td>\n",
              "    </tr>\n",
              "  </tbody>\n",
              "</table>\n",
              "</div>\n",
              "      <button class=\"colab-df-convert\" onclick=\"convertToInteractive('df-d716c1ee-b1ac-4f90-9c42-aebd8a46f005')\"\n",
              "              title=\"Convert this dataframe to an interactive table.\"\n",
              "              style=\"display:none;\">\n",
              "        \n",
              "  <svg xmlns=\"http://www.w3.org/2000/svg\" height=\"24px\"viewBox=\"0 0 24 24\"\n",
              "       width=\"24px\">\n",
              "    <path d=\"M0 0h24v24H0V0z\" fill=\"none\"/>\n",
              "    <path d=\"M18.56 5.44l.94 2.06.94-2.06 2.06-.94-2.06-.94-.94-2.06-.94 2.06-2.06.94zm-11 1L8.5 8.5l.94-2.06 2.06-.94-2.06-.94L8.5 2.5l-.94 2.06-2.06.94zm10 10l.94 2.06.94-2.06 2.06-.94-2.06-.94-.94-2.06-.94 2.06-2.06.94z\"/><path d=\"M17.41 7.96l-1.37-1.37c-.4-.4-.92-.59-1.43-.59-.52 0-1.04.2-1.43.59L10.3 9.45l-7.72 7.72c-.78.78-.78 2.05 0 2.83L4 21.41c.39.39.9.59 1.41.59.51 0 1.02-.2 1.41-.59l7.78-7.78 2.81-2.81c.8-.78.8-2.07 0-2.86zM5.41 20L4 18.59l7.72-7.72 1.47 1.35L5.41 20z\"/>\n",
              "  </svg>\n",
              "      </button>\n",
              "      \n",
              "  <style>\n",
              "    .colab-df-container {\n",
              "      display:flex;\n",
              "      flex-wrap:wrap;\n",
              "      gap: 12px;\n",
              "    }\n",
              "\n",
              "    .colab-df-convert {\n",
              "      background-color: #E8F0FE;\n",
              "      border: none;\n",
              "      border-radius: 50%;\n",
              "      cursor: pointer;\n",
              "      display: none;\n",
              "      fill: #1967D2;\n",
              "      height: 32px;\n",
              "      padding: 0 0 0 0;\n",
              "      width: 32px;\n",
              "    }\n",
              "\n",
              "    .colab-df-convert:hover {\n",
              "      background-color: #E2EBFA;\n",
              "      box-shadow: 0px 1px 2px rgba(60, 64, 67, 0.3), 0px 1px 3px 1px rgba(60, 64, 67, 0.15);\n",
              "      fill: #174EA6;\n",
              "    }\n",
              "\n",
              "    [theme=dark] .colab-df-convert {\n",
              "      background-color: #3B4455;\n",
              "      fill: #D2E3FC;\n",
              "    }\n",
              "\n",
              "    [theme=dark] .colab-df-convert:hover {\n",
              "      background-color: #434B5C;\n",
              "      box-shadow: 0px 1px 3px 1px rgba(0, 0, 0, 0.15);\n",
              "      filter: drop-shadow(0px 1px 2px rgba(0, 0, 0, 0.3));\n",
              "      fill: #FFFFFF;\n",
              "    }\n",
              "  </style>\n",
              "\n",
              "      <script>\n",
              "        const buttonEl =\n",
              "          document.querySelector('#df-d716c1ee-b1ac-4f90-9c42-aebd8a46f005 button.colab-df-convert');\n",
              "        buttonEl.style.display =\n",
              "          google.colab.kernel.accessAllowed ? 'block' : 'none';\n",
              "\n",
              "        async function convertToInteractive(key) {\n",
              "          const element = document.querySelector('#df-d716c1ee-b1ac-4f90-9c42-aebd8a46f005');\n",
              "          const dataTable =\n",
              "            await google.colab.kernel.invokeFunction('convertToInteractive',\n",
              "                                                     [key], {});\n",
              "          if (!dataTable) return;\n",
              "\n",
              "          const docLinkHtml = 'Like what you see? Visit the ' +\n",
              "            '<a target=\"_blank\" href=https://colab.research.google.com/notebooks/data_table.ipynb>data table notebook</a>'\n",
              "            + ' to learn more about interactive tables.';\n",
              "          element.innerHTML = '';\n",
              "          dataTable['output_type'] = 'display_data';\n",
              "          await google.colab.output.renderOutput(dataTable, element);\n",
              "          const docLink = document.createElement('div');\n",
              "          docLink.innerHTML = docLinkHtml;\n",
              "          element.appendChild(docLink);\n",
              "        }\n",
              "      </script>\n",
              "    </div>\n",
              "  </div>\n",
              "  "
            ],
            "text/plain": [
              "                                               CONTENT  CLASS  1\n",
              "316               Check out this playlist on YouTube:﻿      1  1\n",
              "48                              plese subscribe to me﻿      1  1\n",
              "317                  Check out this video on YouTube:﻿      1  1\n",
              "341  Free my apps get 1m crdits ! Just click on the...      1  1\n",
              "0            +447935454150 lovely girl talk to me xxx﻿      1  1"
            ]
          },
          "metadata": {},
          "execution_count": 16
        }
      ]
    },
    {
      "cell_type": "code",
      "source": [
        "from sklearn.model_selection import train_test_split\n",
        "\n",
        "X_train, X_test, y_train, y_test = train_test_split(df_balanced['CONTENT'],df_balanced[1], stratify=df_balanced[1])"
      ],
      "metadata": {
        "id": "zSiBJFRNCqIb"
      },
      "execution_count": null,
      "outputs": []
    },
    {
      "cell_type": "code",
      "source": [
        "X_train.head(4)"
      ],
      "metadata": {
        "colab": {
          "base_uri": "https://localhost:8080/"
        },
        "id": "deShy8WED912",
        "outputId": "2c6067ae-93c2-4c31-9b03-083310207829"
      },
      "execution_count": null,
      "outputs": [
        {
          "output_type": "execute_result",
          "data": {
            "text/plain": [
              "426               I learned the shuffle because of them﻿\n",
              "117    Why do I feel like as if Gangnam style copied ...\n",
              "178    Please check out my New Song (MUSIC VIDEO) AD ...\n",
              "79     &lt;3 this song so much.SHAKIRA YOUR A REALLY ...\n",
              "Name: CONTENT, dtype: object"
            ]
          },
          "metadata": {},
          "execution_count": 18
        }
      ]
    },
    {
      "cell_type": "code",
      "source": [
        "import tensorflow_hub as hub"
      ],
      "metadata": {
        "id": "TTuc1gncFciy"
      },
      "execution_count": null,
      "outputs": []
    },
    {
      "cell_type": "code",
      "source": [
        "bert_preprocess = hub.KerasLayer(\"https://tfhub.dev/tensorflow/bert_en_uncased_preprocess/3\")\n",
        "bert_encoder = hub.KerasLayer(\"https://tfhub.dev/tensorflow/bert_en_uncased_L-12_H-768_A-12/4\")"
      ],
      "metadata": {
        "id": "nDjM9dHAEEHG"
      },
      "execution_count": null,
      "outputs": []
    },
    {
      "cell_type": "code",
      "source": [
        "def get_sentence_embeding(sentences):\n",
        "    preprocessed_text = bert_preprocess(sentences)\n",
        "    return bert_encoder(preprocessed_text)['pooled_output']\n",
        "\n"
      ],
      "metadata": {
        "id": "IucbReA9Fm7p"
      },
      "execution_count": null,
      "outputs": []
    },
    {
      "cell_type": "code",
      "source": [
        "e = get_sentence_embeding([\n",
        "    \"banana\", \n",
        "    \"grapes\",\n",
        "    \"mango\",\n",
        "    \"jeff bezos\",\n",
        "    \"elon musk\",\n",
        "    \"bill gates\"\n",
        "]\n",
        ")"
      ],
      "metadata": {
        "id": "inRtFFeqGZwf"
      },
      "execution_count": null,
      "outputs": []
    },
    {
      "cell_type": "code",
      "source": [
        " from sklearn.metrics.pairwise import cosine_similarity\n",
        "cosine_similarity([e[3]],[e[4]])"
      ],
      "metadata": {
        "colab": {
          "base_uri": "https://localhost:8080/"
        },
        "id": "7vpSw3KFF8Bo",
        "outputId": "94d404ba-24ee-400a-cbfd-1eac8988d483"
      },
      "execution_count": null,
      "outputs": [
        {
          "output_type": "execute_result",
          "data": {
            "text/plain": [
              "array([[0.9872036]], dtype=float32)"
            ]
          },
          "metadata": {},
          "execution_count": 23
        }
      ]
    },
    {
      "cell_type": "code",
      "source": [
        " # Bert layers\n",
        "text_input = tf.keras.layers.Input(shape=(), dtype=tf.string, name='text')\n",
        "preprocessed_text = bert_preprocess(text_input)\n",
        "outputs = bert_encoder(preprocessed_text)"
      ],
      "metadata": {
        "id": "30fkcpKxGeyY"
      },
      "execution_count": null,
      "outputs": []
    },
    {
      "cell_type": "code",
      "source": [
        "# Neural network layers\n",
        "l = tf.keras.layers.Dropout(0.1, name=\"dropout\")(outputs['pooled_output'])\n",
        "l = tf.keras.layers.Dense(1, activation='sigmoid', name=\"output\")(l)"
      ],
      "metadata": {
        "id": "EkxqQdzKG5Jw"
      },
      "execution_count": null,
      "outputs": []
    },
    {
      "cell_type": "code",
      "source": [
        "# Use inputs and outputs to construct a final model\n",
        "model = tf.keras.Model(inputs=[text_input], outputs = [l])"
      ],
      "metadata": {
        "id": "pbDF0B0JG8s-"
      },
      "execution_count": null,
      "outputs": []
    },
    {
      "cell_type": "code",
      "source": [
        "model.summary()"
      ],
      "metadata": {
        "colab": {
          "base_uri": "https://localhost:8080/"
        },
        "id": "6OQaICC3G_0I",
        "outputId": "a039aae8-986c-42df-82dd-4fd22f484289"
      },
      "execution_count": null,
      "outputs": [
        {
          "output_type": "stream",
          "name": "stdout",
          "text": [
            "Model: \"model\"\n",
            "__________________________________________________________________________________________________\n",
            " Layer (type)                   Output Shape         Param #     Connected to                     \n",
            "==================================================================================================\n",
            " text (InputLayer)              [(None,)]            0           []                               \n",
            "                                                                                                  \n",
            " keras_layer (KerasLayer)       {'input_word_ids':   0           ['text[0][0]']                   \n",
            "                                (None, 128),                                                      \n",
            "                                 'input_type_ids':                                                \n",
            "                                (None, 128),                                                      \n",
            "                                 'input_mask': (Non                                               \n",
            "                                e, 128)}                                                          \n",
            "                                                                                                  \n",
            " keras_layer_1 (KerasLayer)     {'pooled_output': (  109482241   ['keras_layer[0][0]',            \n",
            "                                None, 768),                       'keras_layer[0][1]',            \n",
            "                                 'default': (None,                'keras_layer[0][2]']            \n",
            "                                768),                                                             \n",
            "                                 'sequence_output':                                               \n",
            "                                 (None, 128, 768),                                                \n",
            "                                 'encoder_outputs':                                               \n",
            "                                 [(None, 128, 768),                                               \n",
            "                                 (None, 128, 768),                                                \n",
            "                                 (None, 128, 768),                                                \n",
            "                                 (None, 128, 768),                                                \n",
            "                                 (None, 128, 768),                                                \n",
            "                                 (None, 128, 768),                                                \n",
            "                                 (None, 128, 768),                                                \n",
            "                                 (None, 128, 768),                                                \n",
            "                                 (None, 128, 768),                                                \n",
            "                                 (None, 128, 768),                                                \n",
            "                                 (None, 128, 768),                                                \n",
            "                                 (None, 128, 768)]}                                               \n",
            "                                                                                                  \n",
            " dropout (Dropout)              (None, 768)          0           ['keras_layer_1[0][13]']         \n",
            "                                                                                                  \n",
            " output (Dense)                 (None, 1)            769         ['dropout[0][0]']                \n",
            "                                                                                                  \n",
            "==================================================================================================\n",
            "Total params: 109,483,010\n",
            "Trainable params: 769\n",
            "Non-trainable params: 109,482,241\n",
            "__________________________________________________________________________________________________\n"
          ]
        }
      ]
    },
    {
      "cell_type": "code",
      "source": [
        "len(X_train)"
      ],
      "metadata": {
        "colab": {
          "base_uri": "https://localhost:8080/"
        },
        "id": "hXsEUtnRHEUV",
        "outputId": "d7cc4a71-3a2c-493b-c745-eb06dccaba33"
      },
      "execution_count": null,
      "outputs": [
        {
          "output_type": "execute_result",
          "data": {
            "text/plain": [
              "1426"
            ]
          },
          "metadata": {},
          "execution_count": 28
        }
      ]
    },
    {
      "cell_type": "code",
      "source": [
        "METRICS = [\n",
        "      tf.keras.metrics.BinaryAccuracy(name='accuracy'),\n",
        "      tf.keras.metrics.Precision(name='precision'),\n",
        "      tf.keras.metrics.Recall(name='recall')\n",
        "]\n",
        "\n",
        "model.compile(optimizer='adam',\n",
        "              loss='binary_crossentropy',\n",
        "              metrics=METRICS)"
      ],
      "metadata": {
        "id": "8S3YASMSHGWN"
      },
      "execution_count": null,
      "outputs": []
    },
    {
      "cell_type": "code",
      "source": [
        "model.fit(X_train, y_train, epochs=100)"
      ],
      "metadata": {
        "colab": {
          "base_uri": "https://localhost:8080/"
        },
        "id": "jYqNNXcjHLMM",
        "outputId": "d2965bff-d119-4690-9d7d-fa1814bf1a2b"
      },
      "execution_count": null,
      "outputs": [
        {
          "output_type": "stream",
          "name": "stdout",
          "text": [
            "Epoch 1/100\n",
            "45/45 [==============================] - 42s 673ms/step - loss: 0.6758 - accuracy: 0.5870 - precision: 0.5912 - recall: 0.5638\n",
            "Epoch 2/100\n",
            "45/45 [==============================] - 30s 675ms/step - loss: 0.6168 - accuracy: 0.6585 - precision: 0.6507 - recall: 0.6844\n",
            "Epoch 3/100\n",
            "45/45 [==============================] - 31s 676ms/step - loss: 0.5827 - accuracy: 0.6942 - precision: 0.6859 - recall: 0.7167\n",
            "Epoch 4/100\n",
            "45/45 [==============================] - 31s 681ms/step - loss: 0.5541 - accuracy: 0.7223 - precision: 0.7242 - recall: 0.7181\n",
            "Epoch 5/100\n",
            "45/45 [==============================] - 31s 685ms/step - loss: 0.5385 - accuracy: 0.7384 - precision: 0.7450 - recall: 0.7251\n",
            "Epoch 6/100\n",
            "45/45 [==============================] - 31s 689ms/step - loss: 0.5046 - accuracy: 0.7735 - precision: 0.7731 - recall: 0.7742\n",
            "Epoch 7/100\n",
            "45/45 [==============================] - 31s 687ms/step - loss: 0.5011 - accuracy: 0.7742 - precision: 0.7837 - recall: 0.7574\n",
            "Epoch 8/100\n",
            "45/45 [==============================] - 31s 688ms/step - loss: 0.4972 - accuracy: 0.7749 - precision: 0.7737 - recall: 0.7770\n",
            "Epoch 9/100\n",
            "45/45 [==============================] - 31s 689ms/step - loss: 0.4711 - accuracy: 0.8029 - precision: 0.7975 - recall: 0.8121\n",
            "Epoch 10/100\n",
            "45/45 [==============================] - 31s 691ms/step - loss: 0.4606 - accuracy: 0.8086 - precision: 0.8099 - recall: 0.8065\n",
            "Epoch 11/100\n",
            "45/45 [==============================] - 31s 688ms/step - loss: 0.4469 - accuracy: 0.8170 - precision: 0.8201 - recall: 0.8121\n",
            "Epoch 12/100\n",
            "45/45 [==============================] - 31s 689ms/step - loss: 0.4457 - accuracy: 0.8205 - precision: 0.8250 - recall: 0.8135\n",
            "Epoch 13/100\n",
            "45/45 [==============================] - 31s 689ms/step - loss: 0.4331 - accuracy: 0.8345 - precision: 0.8254 - recall: 0.8485\n",
            "Epoch 14/100\n",
            "45/45 [==============================] - 31s 693ms/step - loss: 0.4250 - accuracy: 0.8324 - precision: 0.8264 - recall: 0.8415\n",
            "Epoch 15/100\n",
            "45/45 [==============================] - 31s 688ms/step - loss: 0.4185 - accuracy: 0.8471 - precision: 0.8442 - recall: 0.8513\n",
            "Epoch 16/100\n",
            "45/45 [==============================] - 31s 691ms/step - loss: 0.4153 - accuracy: 0.8394 - precision: 0.8324 - recall: 0.8499\n",
            "Epoch 17/100\n",
            "45/45 [==============================] - 31s 689ms/step - loss: 0.4005 - accuracy: 0.8520 - precision: 0.8496 - recall: 0.8555\n",
            "Epoch 18/100\n",
            "45/45 [==============================] - 31s 684ms/step - loss: 0.3974 - accuracy: 0.8513 - precision: 0.8417 - recall: 0.8654\n",
            "Epoch 19/100\n",
            "45/45 [==============================] - 31s 685ms/step - loss: 0.4027 - accuracy: 0.8450 - precision: 0.8524 - recall: 0.8345\n",
            "Epoch 20/100\n",
            "45/45 [==============================] - 33s 734ms/step - loss: 0.3897 - accuracy: 0.8499 - precision: 0.8441 - recall: 0.8583\n",
            "Epoch 21/100\n",
            "45/45 [==============================] - 31s 686ms/step - loss: 0.3804 - accuracy: 0.8583 - precision: 0.8534 - recall: 0.8654\n",
            "Epoch 22/100\n",
            "45/45 [==============================] - 31s 684ms/step - loss: 0.3752 - accuracy: 0.8590 - precision: 0.8478 - recall: 0.8752\n",
            "Epoch 23/100\n",
            "45/45 [==============================] - 31s 690ms/step - loss: 0.3714 - accuracy: 0.8633 - precision: 0.8638 - recall: 0.8626\n",
            "Epoch 24/100\n",
            "45/45 [==============================] - 31s 688ms/step - loss: 0.3649 - accuracy: 0.8724 - precision: 0.8734 - recall: 0.8710\n",
            "Epoch 25/100\n",
            "45/45 [==============================] - 31s 683ms/step - loss: 0.3643 - accuracy: 0.8710 - precision: 0.8699 - recall: 0.8724\n",
            "Epoch 26/100\n",
            "45/45 [==============================] - 31s 683ms/step - loss: 0.3743 - accuracy: 0.8590 - precision: 0.8507 - recall: 0.8710\n",
            "Epoch 27/100\n",
            "45/45 [==============================] - 31s 680ms/step - loss: 0.3583 - accuracy: 0.8724 - precision: 0.8632 - recall: 0.8850\n",
            "Epoch 28/100\n",
            "45/45 [==============================] - 31s 684ms/step - loss: 0.3610 - accuracy: 0.8696 - precision: 0.8738 - recall: 0.8640\n",
            "Epoch 29/100\n",
            "45/45 [==============================] - 31s 689ms/step - loss: 0.3511 - accuracy: 0.8766 - precision: 0.8766 - recall: 0.8766\n",
            "Epoch 30/100\n",
            "45/45 [==============================] - 31s 686ms/step - loss: 0.3523 - accuracy: 0.8745 - precision: 0.8729 - recall: 0.8766\n",
            "Epoch 31/100\n",
            "45/45 [==============================] - 31s 682ms/step - loss: 0.3552 - accuracy: 0.8780 - precision: 0.8769 - recall: 0.8794\n",
            "Epoch 32/100\n",
            "45/45 [==============================] - 31s 683ms/step - loss: 0.3574 - accuracy: 0.8745 - precision: 0.8698 - recall: 0.8808\n",
            "Epoch 33/100\n",
            "45/45 [==============================] - 31s 680ms/step - loss: 0.3494 - accuracy: 0.8724 - precision: 0.8693 - recall: 0.8766\n",
            "Epoch 34/100\n",
            "45/45 [==============================] - 31s 680ms/step - loss: 0.3434 - accuracy: 0.8822 - precision: 0.8801 - recall: 0.8850\n",
            "Epoch 35/100\n",
            "45/45 [==============================] - 30s 677ms/step - loss: 0.3468 - accuracy: 0.8752 - precision: 0.8816 - recall: 0.8668\n",
            "Epoch 36/100\n",
            "45/45 [==============================] - 31s 681ms/step - loss: 0.3425 - accuracy: 0.8857 - precision: 0.8841 - recall: 0.8878\n",
            "Epoch 37/100\n",
            "45/45 [==============================] - 31s 682ms/step - loss: 0.3413 - accuracy: 0.8717 - precision: 0.8670 - recall: 0.8780\n",
            "Epoch 38/100\n",
            "45/45 [==============================] - 31s 678ms/step - loss: 0.3317 - accuracy: 0.8878 - precision: 0.8944 - recall: 0.8794\n",
            "Epoch 39/100\n",
            "45/45 [==============================] - 31s 680ms/step - loss: 0.3420 - accuracy: 0.8766 - precision: 0.8755 - recall: 0.8780\n",
            "Epoch 40/100\n",
            "45/45 [==============================] - 31s 683ms/step - loss: 0.3393 - accuracy: 0.8773 - precision: 0.8747 - recall: 0.8808\n",
            "Epoch 41/100\n",
            "45/45 [==============================] - 31s 684ms/step - loss: 0.3354 - accuracy: 0.8724 - precision: 0.8612 - recall: 0.8878\n",
            "Epoch 42/100\n",
            "45/45 [==============================] - 31s 681ms/step - loss: 0.3398 - accuracy: 0.8724 - precision: 0.8724 - recall: 0.8724\n",
            "Epoch 43/100\n",
            "45/45 [==============================] - 32s 706ms/step - loss: 0.3228 - accuracy: 0.8913 - precision: 0.8919 - recall: 0.8906\n",
            "Epoch 44/100\n",
            "45/45 [==============================] - 31s 681ms/step - loss: 0.3283 - accuracy: 0.8822 - precision: 0.8790 - recall: 0.8864\n",
            "Epoch 45/100\n",
            "45/45 [==============================] - 31s 681ms/step - loss: 0.3200 - accuracy: 0.8864 - precision: 0.8897 - recall: 0.8822\n",
            "Epoch 46/100\n",
            "45/45 [==============================] - 31s 680ms/step - loss: 0.3181 - accuracy: 0.8871 - precision: 0.8844 - recall: 0.8906\n",
            "Epoch 47/100\n",
            "45/45 [==============================] - 31s 684ms/step - loss: 0.3208 - accuracy: 0.8857 - precision: 0.8884 - recall: 0.8822\n",
            "Epoch 48/100\n",
            "45/45 [==============================] - 31s 681ms/step - loss: 0.3182 - accuracy: 0.8822 - precision: 0.8833 - recall: 0.8808\n",
            "Epoch 49/100\n",
            "45/45 [==============================] - 31s 678ms/step - loss: 0.3207 - accuracy: 0.8843 - precision: 0.8785 - recall: 0.8920\n",
            "Epoch 50/100\n",
            "45/45 [==============================] - 31s 685ms/step - loss: 0.3192 - accuracy: 0.8808 - precision: 0.8714 - recall: 0.8934\n",
            "Epoch 51/100\n",
            "45/45 [==============================] - 30s 677ms/step - loss: 0.3141 - accuracy: 0.8913 - precision: 0.8875 - recall: 0.8962\n",
            "Epoch 52/100\n",
            "45/45 [==============================] - 31s 680ms/step - loss: 0.3200 - accuracy: 0.8871 - precision: 0.8876 - recall: 0.8864\n",
            "Epoch 53/100\n",
            "45/45 [==============================] - 31s 678ms/step - loss: 0.3202 - accuracy: 0.8787 - precision: 0.8814 - recall: 0.8752\n",
            "Epoch 54/100\n",
            "45/45 [==============================] - 31s 679ms/step - loss: 0.3190 - accuracy: 0.8843 - precision: 0.8743 - recall: 0.8976\n",
            "Epoch 55/100\n",
            "45/45 [==============================] - 31s 680ms/step - loss: 0.3022 - accuracy: 0.8913 - precision: 0.8930 - recall: 0.8892\n",
            "Epoch 56/100\n",
            "45/45 [==============================] - 31s 681ms/step - loss: 0.3080 - accuracy: 0.8913 - precision: 0.8941 - recall: 0.8878\n",
            "Epoch 57/100\n",
            "45/45 [==============================] - 31s 681ms/step - loss: 0.3078 - accuracy: 0.8969 - precision: 0.8964 - recall: 0.8976\n",
            "Epoch 58/100\n",
            "45/45 [==============================] - 31s 681ms/step - loss: 0.3149 - accuracy: 0.8829 - precision: 0.8760 - recall: 0.8920\n",
            "Epoch 59/100\n",
            "45/45 [==============================] - 31s 682ms/step - loss: 0.3105 - accuracy: 0.8899 - precision: 0.8927 - recall: 0.8864\n",
            "Epoch 60/100\n",
            "45/45 [==============================] - 31s 686ms/step - loss: 0.3042 - accuracy: 0.8899 - precision: 0.8850 - recall: 0.8962\n",
            "Epoch 61/100\n",
            "45/45 [==============================] - 31s 687ms/step - loss: 0.3027 - accuracy: 0.8780 - precision: 0.8801 - recall: 0.8752\n",
            "Epoch 62/100\n",
            "45/45 [==============================] - 31s 680ms/step - loss: 0.2999 - accuracy: 0.8850 - precision: 0.8828 - recall: 0.8878\n",
            "Epoch 63/100\n",
            "45/45 [==============================] - 31s 680ms/step - loss: 0.3110 - accuracy: 0.8850 - precision: 0.8828 - recall: 0.8878\n",
            "Epoch 64/100\n",
            "45/45 [==============================] - 31s 680ms/step - loss: 0.3030 - accuracy: 0.8857 - precision: 0.8884 - recall: 0.8822\n",
            "Epoch 65/100\n",
            "45/45 [==============================] - 31s 681ms/step - loss: 0.3012 - accuracy: 0.8857 - precision: 0.8819 - recall: 0.8906\n",
            "Epoch 66/100\n",
            "45/45 [==============================] - 31s 682ms/step - loss: 0.2927 - accuracy: 0.8948 - precision: 0.8959 - recall: 0.8934\n",
            "Epoch 67/100\n",
            "45/45 [==============================] - 31s 678ms/step - loss: 0.3097 - accuracy: 0.8920 - precision: 0.8866 - recall: 0.8990\n",
            "Epoch 68/100\n",
            "45/45 [==============================] - 31s 678ms/step - loss: 0.2920 - accuracy: 0.8934 - precision: 0.8869 - recall: 0.9018\n",
            "Epoch 69/100\n",
            "45/45 [==============================] - 30s 677ms/step - loss: 0.2900 - accuracy: 0.8976 - precision: 0.9033 - recall: 0.8906\n",
            "Epoch 70/100\n",
            "45/45 [==============================] - 31s 685ms/step - loss: 0.2941 - accuracy: 0.8906 - precision: 0.8962 - recall: 0.8836\n",
            "Epoch 71/100\n",
            "45/45 [==============================] - 31s 682ms/step - loss: 0.2912 - accuracy: 0.9011 - precision: 0.8994 - recall: 0.9032\n",
            "Epoch 72/100\n",
            "45/45 [==============================] - 31s 679ms/step - loss: 0.2946 - accuracy: 0.8934 - precision: 0.8956 - recall: 0.8906\n",
            "Epoch 73/100\n",
            "45/45 [==============================] - 31s 682ms/step - loss: 0.2983 - accuracy: 0.8927 - precision: 0.8955 - recall: 0.8892\n",
            "Epoch 74/100\n",
            "45/45 [==============================] - 30s 676ms/step - loss: 0.2894 - accuracy: 0.8955 - precision: 0.8895 - recall: 0.9032\n",
            "Epoch 75/100\n",
            "45/45 [==============================] - 31s 678ms/step - loss: 0.2897 - accuracy: 0.8969 - precision: 0.8909 - recall: 0.9046\n",
            "Epoch 76/100\n",
            "45/45 [==============================] - 31s 680ms/step - loss: 0.3051 - accuracy: 0.8857 - precision: 0.8819 - recall: 0.8906\n",
            "Epoch 77/100\n",
            "45/45 [==============================] - 31s 683ms/step - loss: 0.2915 - accuracy: 0.8969 - precision: 0.8942 - recall: 0.9004\n",
            "Epoch 78/100\n",
            "45/45 [==============================] - 30s 676ms/step - loss: 0.2895 - accuracy: 0.8990 - precision: 0.8957 - recall: 0.9032\n",
            "Epoch 79/100\n",
            "45/45 [==============================] - 31s 681ms/step - loss: 0.2925 - accuracy: 0.8962 - precision: 0.9030 - recall: 0.8878\n",
            "Epoch 80/100\n",
            "45/45 [==============================] - 31s 686ms/step - loss: 0.2882 - accuracy: 0.8927 - precision: 0.8944 - recall: 0.8906\n",
            "Epoch 81/100\n",
            "45/45 [==============================] - 31s 690ms/step - loss: 0.2853 - accuracy: 0.8997 - precision: 0.9025 - recall: 0.8962\n",
            "Epoch 82/100\n",
            "45/45 [==============================] - 31s 688ms/step - loss: 0.2876 - accuracy: 0.8913 - precision: 0.8908 - recall: 0.8920\n",
            "Epoch 83/100\n",
            "45/45 [==============================] - 31s 685ms/step - loss: 0.2921 - accuracy: 0.8885 - precision: 0.8912 - recall: 0.8850\n",
            "Epoch 84/100\n",
            "45/45 [==============================] - 31s 682ms/step - loss: 0.2843 - accuracy: 0.9018 - precision: 0.8952 - recall: 0.9102\n",
            "Epoch 85/100\n",
            "45/45 [==============================] - 31s 682ms/step - loss: 0.2861 - accuracy: 0.8941 - precision: 0.8969 - recall: 0.8906\n",
            "Epoch 86/100\n",
            "45/45 [==============================] - 31s 678ms/step - loss: 0.2934 - accuracy: 0.8941 - precision: 0.8892 - recall: 0.9004\n",
            "Epoch 87/100\n",
            "45/45 [==============================] - 31s 682ms/step - loss: 0.3046 - accuracy: 0.8885 - precision: 0.8890 - recall: 0.8878\n",
            "Epoch 88/100\n",
            "45/45 [==============================] - 31s 681ms/step - loss: 0.2777 - accuracy: 0.8997 - precision: 0.9014 - recall: 0.8976\n",
            "Epoch 89/100\n",
            "45/45 [==============================] - 31s 681ms/step - loss: 0.2845 - accuracy: 0.8934 - precision: 0.8956 - recall: 0.8906\n",
            "Epoch 90/100\n",
            "45/45 [==============================] - 31s 683ms/step - loss: 0.2803 - accuracy: 0.8934 - precision: 0.8912 - recall: 0.8962\n",
            "Epoch 91/100\n",
            "45/45 [==============================] - 31s 684ms/step - loss: 0.2739 - accuracy: 0.8962 - precision: 0.8962 - recall: 0.8962\n",
            "Epoch 92/100\n",
            "45/45 [==============================] - 31s 689ms/step - loss: 0.2793 - accuracy: 0.8962 - precision: 0.8951 - recall: 0.8976\n",
            "Epoch 93/100\n",
            "45/45 [==============================] - 31s 683ms/step - loss: 0.2771 - accuracy: 0.9046 - precision: 0.9151 - recall: 0.8920\n",
            "Epoch 94/100\n",
            "45/45 [==============================] - 31s 684ms/step - loss: 0.2823 - accuracy: 0.9053 - precision: 0.9014 - recall: 0.9102\n",
            "Epoch 95/100\n",
            "45/45 [==============================] - 31s 685ms/step - loss: 0.2855 - accuracy: 0.8808 - precision: 0.8884 - recall: 0.8710\n",
            "Epoch 96/100\n",
            "45/45 [==============================] - 31s 682ms/step - loss: 0.2734 - accuracy: 0.8969 - precision: 0.9008 - recall: 0.8920\n",
            "Epoch 97/100\n",
            "45/45 [==============================] - 31s 682ms/step - loss: 0.2774 - accuracy: 0.8976 - precision: 0.8921 - recall: 0.9046\n",
            "Epoch 98/100\n",
            "45/45 [==============================] - 31s 682ms/step - loss: 0.2794 - accuracy: 0.8913 - precision: 0.8919 - recall: 0.8906\n",
            "Epoch 99/100\n",
            "45/45 [==============================] - 31s 681ms/step - loss: 0.2830 - accuracy: 0.8997 - precision: 0.9025 - recall: 0.8962\n",
            "Epoch 100/100\n",
            "45/45 [==============================] - 30s 676ms/step - loss: 0.2792 - accuracy: 0.8955 - precision: 0.8994 - recall: 0.8906\n"
          ]
        },
        {
          "output_type": "execute_result",
          "data": {
            "text/plain": [
              "<keras.callbacks.History at 0x7f0d494e0e90>"
            ]
          },
          "metadata": {},
          "execution_count": 30
        }
      ]
    },
    {
      "cell_type": "code",
      "source": [
        "model.evaluate(X_test, y_test)"
      ],
      "metadata": {
        "colab": {
          "base_uri": "https://localhost:8080/"
        },
        "id": "-xrRfoLyHg-T",
        "outputId": "60e0dc6b-7b09-4b78-ce11-140eaa6b0a09"
      },
      "execution_count": null,
      "outputs": [
        {
          "output_type": "stream",
          "name": "stdout",
          "text": [
            "15/15 [==============================] - 11s 678ms/step - loss: 0.2640 - accuracy: 0.8992 - precision: 0.8831 - recall: 0.9202\n"
          ]
        },
        {
          "output_type": "execute_result",
          "data": {
            "text/plain": [
              "[0.2639540731906891,\n",
              " 0.8991596698760986,\n",
              " 0.8830645084381104,\n",
              " 0.9201680421829224]"
            ]
          },
          "metadata": {},
          "execution_count": 31
        }
      ]
    },
    {
      "cell_type": "code",
      "source": [
        "y_predicted = model.predict(X_test)\n",
        "y_predicted = y_predicted.flatten()"
      ],
      "metadata": {
        "id": "4Z-wcFLPHlNs"
      },
      "execution_count": null,
      "outputs": []
    },
    {
      "cell_type": "code",
      "source": [
        "import numpy as np\n",
        "\n",
        "y_predicted = np.where(y_predicted > 0.5, 1, 0)\n",
        "y_predicted"
      ],
      "metadata": {
        "colab": {
          "base_uri": "https://localhost:8080/"
        },
        "id": "149Im0zBHnnG",
        "outputId": "ccd7c73a-bd9b-411c-e07b-6fb1455943ee"
      },
      "execution_count": null,
      "outputs": [
        {
          "output_type": "execute_result",
          "data": {
            "text/plain": [
              "array([1, 0, 1, 0, 1, 0, 0, 1, 0, 0, 1, 1, 0, 1, 0, 0, 0, 1, 0, 1, 1, 1,\n",
              "       0, 0, 0, 1, 0, 0, 0, 0, 1, 1, 0, 0, 1, 0, 1, 1, 1, 0, 1, 0, 0, 0,\n",
              "       1, 0, 0, 0, 0, 0, 1, 1, 1, 1, 0, 1, 0, 0, 1, 1, 1, 1, 0, 0, 0, 0,\n",
              "       0, 0, 0, 0, 1, 0, 0, 1, 0, 1, 1, 0, 1, 1, 0, 1, 1, 1, 1, 0, 0, 1,\n",
              "       1, 0, 1, 1, 1, 1, 1, 0, 0, 1, 0, 0, 0, 1, 1, 0, 0, 1, 1, 0, 0, 0,\n",
              "       1, 1, 1, 1, 1, 0, 0, 0, 1, 1, 0, 0, 0, 1, 1, 1, 0, 1, 0, 0, 1, 1,\n",
              "       0, 0, 1, 0, 1, 1, 1, 1, 0, 0, 0, 0, 0, 0, 1, 1, 1, 1, 0, 0, 0, 0,\n",
              "       0, 1, 0, 1, 0, 1, 0, 1, 0, 0, 1, 0, 1, 0, 1, 0, 0, 1, 0, 1, 1, 1,\n",
              "       1, 1, 0, 1, 0, 0, 1, 0, 1, 0, 0, 1, 0, 1, 0, 1, 0, 1, 1, 1, 0, 1,\n",
              "       1, 1, 1, 0, 1, 1, 1, 0, 1, 0, 1, 1, 0, 0, 0, 1, 1, 0, 0, 1, 0, 1,\n",
              "       0, 0, 1, 1, 0, 0, 0, 1, 1, 0, 1, 0, 0, 0, 0, 1, 1, 1, 0, 0, 0, 1,\n",
              "       1, 1, 0, 1, 1, 1, 1, 1, 0, 1, 0, 0, 1, 1, 1, 0, 1, 0, 1, 0, 1, 1,\n",
              "       1, 1, 0, 0, 1, 0, 1, 1, 0, 1, 1, 0, 0, 0, 0, 1, 0, 0, 1, 1, 1, 1,\n",
              "       0, 0, 1, 1, 1, 1, 1, 1, 1, 0, 1, 0, 1, 0, 1, 0, 0, 1, 0, 0, 0, 1,\n",
              "       1, 0, 0, 0, 0, 1, 1, 1, 1, 0, 1, 0, 0, 1, 1, 1, 0, 1, 1, 1, 0, 1,\n",
              "       1, 0, 0, 1, 0, 0, 0, 0, 1, 1, 1, 1, 1, 0, 1, 1, 0, 1, 0, 0, 0, 1,\n",
              "       1, 1, 1, 1, 1, 0, 1, 0, 1, 1, 0, 1, 1, 0, 1, 0, 1, 1, 1, 0, 1, 0,\n",
              "       0, 0, 1, 1, 1, 1, 1, 0, 0, 0, 1, 1, 0, 1, 0, 1, 1, 1, 0, 0, 1, 0,\n",
              "       0, 0, 1, 1, 1, 1, 0, 1, 0, 1, 1, 1, 1, 0, 0, 1, 0, 0, 1, 0, 0, 1,\n",
              "       1, 0, 1, 1, 1, 0, 0, 0, 0, 0, 0, 1, 1, 1, 0, 0, 1, 0, 0, 0, 1, 0,\n",
              "       0, 1, 1, 0, 0, 0, 1, 0, 1, 1, 0, 1, 1, 0, 1, 0, 0, 1, 0, 0, 1, 1,\n",
              "       1, 1, 0, 1, 1, 0, 1, 1, 0, 0, 0, 1, 1, 0])"
            ]
          },
          "metadata": {},
          "execution_count": 33
        }
      ]
    },
    {
      "cell_type": "code",
      "source": [
        "from sklearn.metrics import confusion_matrix, classification_report\n",
        "\n",
        "cm = confusion_matrix(y_test, y_predicted)\n",
        "cm "
      ],
      "metadata": {
        "colab": {
          "base_uri": "https://localhost:8080/"
        },
        "id": "b3SmxfQSHr9b",
        "outputId": "dde19d05-79d8-48ba-c6c6-32038c47cf44"
      },
      "execution_count": null,
      "outputs": [
        {
          "output_type": "execute_result",
          "data": {
            "text/plain": [
              "array([[209,  29],\n",
              "       [ 19, 219]])"
            ]
          },
          "metadata": {},
          "execution_count": 34
        }
      ]
    },
    {
      "cell_type": "code",
      "source": [
        "from matplotlib import pyplot as plt\n",
        "import seaborn as sn\n",
        "sn.heatmap(cm, annot=True, fmt='d')\n",
        "plt.xlabel('Predicted')\n",
        "plt.ylabel('Truth')"
      ],
      "metadata": {
        "colab": {
          "base_uri": "https://localhost:8080/",
          "height": 296
        },
        "id": "Dxcpa5NIHvDC",
        "outputId": "99e4b6e5-fceb-40a2-d426-1f5aa25d8f0f"
      },
      "execution_count": null,
      "outputs": [
        {
          "output_type": "execute_result",
          "data": {
            "text/plain": [
              "Text(33.0, 0.5, 'Truth')"
            ]
          },
          "metadata": {},
          "execution_count": 35
        },
        {
          "output_type": "display_data",
          "data": {
            "image/png": "[encoded data removed]",
            "text/plain": [
              "<Figure size 432x288 with 2 Axes>"
            ]
          },
          "metadata": {
            "needs_background": "light"
          }
        }
      ]
    },
    {
      "cell_type": "code",
      "source": [
        "print(classification_report(y_test, y_predicted))"
      ],
      "metadata": {
        "colab": {
          "base_uri": "https://localhost:8080/"
        },
        "id": "rSajtLK5Hx7a",
        "outputId": "05191548-f533-4057-ec37-b9e4c35e126e"
      },
      "execution_count": null,
      "outputs": [
        {
          "output_type": "stream",
          "name": "stdout",
          "text": [
            "              precision    recall  f1-score   support\n",
            "\n",
            "           0       0.92      0.88      0.90       238\n",
            "           1       0.88      0.92      0.90       238\n",
            "\n",
            "    accuracy                           0.90       476\n",
            "   macro avg       0.90      0.90      0.90       476\n",
            "weighted avg       0.90      0.90      0.90       476\n",
            "\n"
          ]
        }
      ]
    },
    {
      "cell_type": "code",
      "source": [
        " "
      ],
      "metadata": {
        "id": "jrKv6_ay_1r9"
      },
      "execution_count": null,
      "outputs": []
    },
    {
      "cell_type": "code",
      "source": [
        ""
      ],
      "metadata": {
        "id": "4rRObtXw0JPK"
      },
      "execution_count": null,
      "outputs": []
    }
  ]
}